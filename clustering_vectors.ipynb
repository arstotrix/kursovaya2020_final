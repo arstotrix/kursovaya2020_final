{
  "nbformat": 4,
  "nbformat_minor": 0,
  "metadata": {
    "kernelspec": {
      "display_name": "Python 3",
      "language": "python",
      "name": "python3"
    },
    "language_info": {
      "codemirror_mode": {
        "name": "ipython",
        "version": 3
      },
      "file_extension": ".py",
      "mimetype": "text/x-python",
      "name": "python",
      "nbconvert_exporter": "python",
      "pygments_lexer": "ipython3",
      "version": "3.6.5"
    },
    "colab": {
      "name": "clustering_vectors.ipynb",
      "provenance": [],
      "include_colab_link": true
    }
  },
  "cells": [
    {
      "cell_type": "markdown",
      "metadata": {
        "id": "view-in-github",
        "colab_type": "text"
      },
      "source": [
        "<a href=\"https://colab.research.google.com/github/arstotrix/kursovaya2020_final/blob/master/clustering_vectors.ipynb\" target=\"_parent\"><img src=\"https://colab.research.google.com/assets/colab-badge.svg\" alt=\"Open In Colab\"/></a>"
      ]
    },
    {
      "cell_type": "code",
      "metadata": {
        "id": "DaV11dGhpGC6",
        "colab": {
          "base_uri": "https://localhost:8080/",
          "height": 1000
        },
        "outputId": "2490814d-7e3b-45e4-9b93-773d30fef17d"
      },
      "source": [
        "!pip install deeppavlov"
      ],
      "execution_count": null,
      "outputs": [
        {
          "output_type": "stream",
          "text": [
            "Collecting deeppavlov\n",
            "\u001b[?25l  Downloading https://files.pythonhosted.org/packages/6d/f6/df4ce4c5c5cafd8d357a4c02cb1ccb5ff1d8f3c21de3e5d02299eef56342/deeppavlov-0.12.1-py3-none-any.whl (948kB)\n",
            "\u001b[K     |████████████████████████████████| 952kB 2.8MB/s \n",
            "\u001b[?25hCollecting numpy==1.18.0\n",
            "\u001b[?25l  Downloading https://files.pythonhosted.org/packages/92/e6/45f71bd24f4e37629e9db5fb75caab919507deae6a5a257f9e4685a5f931/numpy-1.18.0-cp36-cp36m-manylinux1_x86_64.whl (20.1MB)\n",
            "\u001b[K     |████████████████████████████████| 20.1MB 1.3MB/s \n",
            "\u001b[?25hCollecting rusenttokenize==0.0.5\n",
            "  Downloading https://files.pythonhosted.org/packages/25/4c/a2f00be5def774a3df2e5387145f1cb54e324607ec4a7e23f573645946e7/rusenttokenize-0.0.5-py3-none-any.whl\n",
            "Collecting scikit-learn==0.21.2\n",
            "\u001b[?25l  Downloading https://files.pythonhosted.org/packages/85/04/49633f490f726da6e454fddc8e938bbb5bfed2001681118d3814c219b723/scikit_learn-0.21.2-cp36-cp36m-manylinux1_x86_64.whl (6.7MB)\n",
            "\u001b[K     |████████████████████████████████| 6.7MB 43.1MB/s \n",
            "\u001b[?25hCollecting overrides==2.7.0\n",
            "  Downloading https://files.pythonhosted.org/packages/ac/98/2430afd204c48ac0a529d439d7e22df8fa603c668d03456b5947cb59ec36/overrides-2.7.0.tar.gz\n",
            "Collecting requests==2.22.0\n",
            "\u001b[?25l  Downloading https://files.pythonhosted.org/packages/51/bd/23c926cd341ea6b7dd0b2a00aba99ae0f828be89d72b2190f27c11d4b7fb/requests-2.22.0-py2.py3-none-any.whl (57kB)\n",
            "\u001b[K     |████████████████████████████████| 61kB 6.9MB/s \n",
            "\u001b[?25hCollecting nltk==3.4.5\n",
            "\u001b[?25l  Downloading https://files.pythonhosted.org/packages/f6/1d/d925cfb4f324ede997f6d47bea4d9babba51b49e87a767c170b77005889d/nltk-3.4.5.zip (1.5MB)\n",
            "\u001b[K     |████████████████████████████████| 1.5MB 45.7MB/s \n",
            "\u001b[?25hCollecting ruamel.yaml==0.15.100\n",
            "\u001b[?25l  Downloading https://files.pythonhosted.org/packages/e7/9f/83bb34eaf84032b0b54fcc4a6aff1858572d279d65a301c7ae875f523df5/ruamel.yaml-0.15.100-cp36-cp36m-manylinux1_x86_64.whl (656kB)\n",
            "\u001b[K     |████████████████████████████████| 665kB 42.5MB/s \n",
            "\u001b[?25hRequirement already satisfied: click==7.1.2 in /usr/local/lib/python3.6/dist-packages (from deeppavlov) (7.1.2)\n",
            "Collecting pymorphy2-dicts-ru\n",
            "\u001b[?25l  Downloading https://files.pythonhosted.org/packages/7c/9b/358faaff410f65a4ad159275e897b5956dcb20576c5b8e764b971c1634d7/pymorphy2_dicts_ru-2.4.404381.4453942-py2.py3-none-any.whl (8.0MB)\n",
            "\u001b[K     |████████████████████████████████| 8.0MB 41.7MB/s \n",
            "\u001b[?25hCollecting pytelegrambotapi==3.6.7\n",
            "\u001b[?25l  Downloading https://files.pythonhosted.org/packages/62/ab/99c606f69fcda57e35788b913dd34c9d9acb48dd26349141b3855dcf6351/pyTelegramBotAPI-3.6.7.tar.gz (65kB)\n",
            "\u001b[K     |████████████████████████████████| 71kB 7.7MB/s \n",
            "\u001b[?25hCollecting pydantic==1.3\n",
            "\u001b[?25l  Downloading https://files.pythonhosted.org/packages/99/24/e78cf017628e7eaed20cb040999b1ecc69f872da53dfd0d9aed40c0fa5f1/pydantic-1.3-cp36-cp36m-manylinux2010_x86_64.whl (7.3MB)\n",
            "\u001b[K     |████████████████████████████████| 7.3MB 15.6MB/s \n",
            "\u001b[?25hRequirement already satisfied: h5py==2.10.0 in /usr/local/lib/python3.6/dist-packages (from deeppavlov) (2.10.0)\n",
            "Collecting fastapi==0.47.1\n",
            "\u001b[?25l  Downloading https://files.pythonhosted.org/packages/a3/a7/4804d7abf8a1544d079d50650af872387154ebdac5bd07d54b2e60e2b334/fastapi-0.47.1-py3-none-any.whl (43kB)\n",
            "\u001b[K     |████████████████████████████████| 51kB 6.0MB/s \n",
            "\u001b[?25hCollecting pytz==2019.1\n",
            "\u001b[?25l  Downloading https://files.pythonhosted.org/packages/3d/73/fe30c2daaaa0713420d0382b16fbb761409f532c56bdcc514bf7b6262bb6/pytz-2019.1-py2.py3-none-any.whl (510kB)\n",
            "\u001b[K     |████████████████████████████████| 512kB 41.8MB/s \n",
            "\u001b[?25hCollecting pandas==0.25.3\n",
            "\u001b[?25l  Downloading https://files.pythonhosted.org/packages/52/3f/f6a428599e0d4497e1595030965b5ba455fd8ade6e977e3c819973c4b41d/pandas-0.25.3-cp36-cp36m-manylinux1_x86_64.whl (10.4MB)\n",
            "\u001b[K     |████████████████████████████████| 10.4MB 40.9MB/s \n",
            "\u001b[?25hCollecting uvicorn==0.11.7\n",
            "\u001b[?25l  Downloading https://files.pythonhosted.org/packages/a9/5f/2bc87272f189662e129ddcd4807ad3ef83128b4df3a3482335f5f9790f24/uvicorn-0.11.7-py3-none-any.whl (43kB)\n",
            "\u001b[K     |████████████████████████████████| 51kB 6.2MB/s \n",
            "\u001b[?25hCollecting pyopenssl==19.1.0\n",
            "\u001b[?25l  Downloading https://files.pythonhosted.org/packages/9e/de/f8342b68fa9e981d348039954657bdf681b2ab93de27443be51865ffa310/pyOpenSSL-19.1.0-py2.py3-none-any.whl (53kB)\n",
            "\u001b[K     |████████████████████████████████| 61kB 7.5MB/s \n",
            "\u001b[?25hRequirement already satisfied: tqdm==4.41.1 in /usr/local/lib/python3.6/dist-packages (from deeppavlov) (4.41.1)\n",
            "Collecting pymorphy2==0.8\n",
            "\u001b[?25l  Downloading https://files.pythonhosted.org/packages/a3/33/fff9675c68b5f6c63ec8c6e6ff57827dda28a1fa5b2c2d727dffff92dd47/pymorphy2-0.8-py2.py3-none-any.whl (46kB)\n",
            "\u001b[K     |████████████████████████████████| 51kB 4.2MB/s \n",
            "\u001b[?25hRequirement already satisfied: scipy==1.4.1 in /usr/local/lib/python3.6/dist-packages (from deeppavlov) (1.4.1)\n",
            "Collecting aio-pika==6.4.1\n",
            "\u001b[?25l  Downloading https://files.pythonhosted.org/packages/c8/07/196a4115cbef31fa0c3dabdea146f02dffe5e49998341d20dbe2278953bc/aio_pika-6.4.1-py3-none-any.whl (40kB)\n",
            "\u001b[K     |████████████████████████████████| 51kB 6.3MB/s \n",
            "\u001b[?25hCollecting sacremoses==0.0.35\n",
            "\u001b[?25l  Downloading https://files.pythonhosted.org/packages/1f/8e/ed5364a06a9ba720fddd9820155cc57300d28f5f43a6fd7b7e817177e642/sacremoses-0.0.35.tar.gz (859kB)\n",
            "\u001b[K     |████████████████████████████████| 860kB 37.6MB/s \n",
            "\u001b[?25hCollecting Cython==0.29.14\n",
            "\u001b[?25l  Downloading https://files.pythonhosted.org/packages/df/d1/4d3f8a7a920e805488a966cc6ab55c978a712240f584445d703c08b9f405/Cython-0.29.14-cp36-cp36m-manylinux1_x86_64.whl (2.1MB)\n",
            "\u001b[K     |████████████████████████████████| 2.1MB 38.1MB/s \n",
            "\u001b[?25hRequirement already satisfied: joblib>=0.11 in /usr/local/lib/python3.6/dist-packages (from scikit-learn==0.21.2->deeppavlov) (0.16.0)\n",
            "Requirement already satisfied: chardet<3.1.0,>=3.0.2 in /usr/local/lib/python3.6/dist-packages (from requests==2.22.0->deeppavlov) (3.0.4)\n",
            "Collecting idna<2.9,>=2.5\n",
            "\u001b[?25l  Downloading https://files.pythonhosted.org/packages/14/2c/cd551d81dbe15200be1cf41cd03869a46fe7226e7450af7a6545bfc474c9/idna-2.8-py2.py3-none-any.whl (58kB)\n",
            "\u001b[K     |████████████████████████████████| 61kB 6.5MB/s \n",
            "\u001b[?25hRequirement already satisfied: certifi>=2017.4.17 in /usr/local/lib/python3.6/dist-packages (from requests==2.22.0->deeppavlov) (2020.6.20)\n",
            "Requirement already satisfied: urllib3!=1.25.0,!=1.25.1,<1.26,>=1.21.1 in /usr/local/lib/python3.6/dist-packages (from requests==2.22.0->deeppavlov) (1.24.3)\n",
            "Requirement already satisfied: six in /usr/local/lib/python3.6/dist-packages (from nltk==3.4.5->deeppavlov) (1.15.0)\n",
            "Requirement already satisfied: dataclasses>=0.6; python_version < \"3.7\" in /usr/local/lib/python3.6/dist-packages (from pydantic==1.3->deeppavlov) (0.7)\n",
            "Collecting starlette<=0.12.9,>=0.12.9\n",
            "\u001b[?25l  Downloading https://files.pythonhosted.org/packages/67/95/2220fe5bf287e693a6430d8ee36c681b0157035b7249ec08f8fb36319d16/starlette-0.12.9.tar.gz (46kB)\n",
            "\u001b[K     |████████████████████████████████| 51kB 5.8MB/s \n",
            "\u001b[?25hRequirement already satisfied: python-dateutil>=2.6.1 in /usr/local/lib/python3.6/dist-packages (from pandas==0.25.3->deeppavlov) (2.8.1)\n",
            "Collecting httptools==0.1.*; sys_platform != \"win32\" and sys_platform != \"cygwin\" and platform_python_implementation != \"PyPy\"\n",
            "\u001b[?25l  Downloading https://files.pythonhosted.org/packages/b1/a6/dc1e7e8f4049ab70d52c9690ec10652e268ab2542853033cc1d539594102/httptools-0.1.1-cp36-cp36m-manylinux1_x86_64.whl (216kB)\n",
            "\u001b[K     |████████████████████████████████| 225kB 45.6MB/s \n",
            "\u001b[?25hCollecting h11<0.10,>=0.8\n",
            "\u001b[?25l  Downloading https://files.pythonhosted.org/packages/5a/fd/3dad730b0f95e78aeeb742f96fa7bbecbdd56a58e405d3da440d5bfb90c6/h11-0.9.0-py2.py3-none-any.whl (53kB)\n",
            "\u001b[K     |████████████████████████████████| 61kB 7.0MB/s \n",
            "\u001b[?25hCollecting websockets==8.*\n",
            "\u001b[?25l  Downloading https://files.pythonhosted.org/packages/bb/d9/856af84843912e2853b1b6e898ac8b802989fcf9ecf8e8445a1da263bf3b/websockets-8.1-cp36-cp36m-manylinux2010_x86_64.whl (78kB)\n",
            "\u001b[K     |████████████████████████████████| 81kB 8.9MB/s \n",
            "\u001b[?25hCollecting uvloop>=0.14.0; sys_platform != \"win32\" and sys_platform != \"cygwin\" and platform_python_implementation != \"PyPy\"\n",
            "\u001b[?25l  Downloading https://files.pythonhosted.org/packages/41/48/586225bbb02d3bdca475b17e4be5ce5b3f09da2d6979f359916c1592a687/uvloop-0.14.0-cp36-cp36m-manylinux2010_x86_64.whl (3.9MB)\n",
            "\u001b[K     |████████████████████████████████| 3.9MB 40.4MB/s \n",
            "\u001b[?25hCollecting cryptography>=2.8\n",
            "\u001b[?25l  Downloading https://files.pythonhosted.org/packages/33/62/30f6936941d87a5ed72efb24249437824f6b2c953901245b58c91fde2f27/cryptography-3.1.1-cp35-abi3-manylinux2010_x86_64.whl (2.6MB)\n",
            "\u001b[K     |████████████████████████████████| 2.6MB 38.4MB/s \n",
            "\u001b[?25hRequirement already satisfied: docopt>=0.6 in /usr/local/lib/python3.6/dist-packages (from pymorphy2==0.8->deeppavlov) (0.6.2)\n",
            "Collecting dawg-python>=0.7\n",
            "  Downloading https://files.pythonhosted.org/packages/6a/84/ff1ce2071d4c650ec85745766c0047ccc3b5036f1d03559fd46bb38b5eeb/DAWG_Python-0.7.2-py2.py3-none-any.whl\n",
            "Collecting pymorphy2-dicts<3.0,>=2.4\n",
            "\u001b[?25l  Downloading https://files.pythonhosted.org/packages/02/51/2465fd4f72328ab50877b54777764d928da8cb15b74e2680fc1bd8cb3173/pymorphy2_dicts-2.4.393442.3710985-py2.py3-none-any.whl (7.1MB)\n",
            "\u001b[K     |████████████████████████████████| 7.1MB 42.0MB/s \n",
            "\u001b[?25hCollecting yarl\n",
            "\u001b[?25l  Downloading https://files.pythonhosted.org/packages/01/c9/379b807a9c298b9694d0af8ee4260be7d40ab1a11fb9d4ae9e70b1e69d96/yarl-1.6.0-cp36-cp36m-manylinux1_x86_64.whl (257kB)\n",
            "\u001b[K     |████████████████████████████████| 266kB 49.5MB/s \n",
            "\u001b[?25hCollecting aiormq<4,>=3.2.0\n",
            "  Downloading https://files.pythonhosted.org/packages/6b/c6/4a9f8f22eef268289e9af5da6a620d837c700b333eae01132bfe48fe7dc9/aiormq-3.2.3-py3-none-any.whl\n",
            "Requirement already satisfied: cffi!=1.11.3,>=1.8 in /usr/local/lib/python3.6/dist-packages (from cryptography>=2.8->pyopenssl==19.1.0->deeppavlov) (1.14.3)\n",
            "Requirement already satisfied: typing-extensions>=3.7.4; python_version < \"3.8\" in /usr/local/lib/python3.6/dist-packages (from yarl->aio-pika==6.4.1->deeppavlov) (3.7.4.3)\n",
            "Collecting multidict>=4.0\n",
            "\u001b[?25l  Downloading https://files.pythonhosted.org/packages/1a/95/f50352b5366e7d579e8b99631680a9e32e1b22adfa1629a8f23b1d22d5e2/multidict-4.7.6-cp36-cp36m-manylinux1_x86_64.whl (148kB)\n",
            "\u001b[K     |████████████████████████████████| 153kB 47.4MB/s \n",
            "\u001b[?25hCollecting pamqp==2.3.0\n",
            "  Downloading https://files.pythonhosted.org/packages/eb/56/afa06143361e640c9159d828dadc95fc9195c52c95b4a97d136617b0166d/pamqp-2.3.0-py2.py3-none-any.whl\n",
            "Requirement already satisfied: pycparser in /usr/local/lib/python3.6/dist-packages (from cffi!=1.11.3,>=1.8->cryptography>=2.8->pyopenssl==19.1.0->deeppavlov) (2.20)\n",
            "Building wheels for collected packages: overrides, nltk, pytelegrambotapi, sacremoses, starlette\n",
            "  Building wheel for overrides (setup.py) ... \u001b[?25l\u001b[?25hdone\n",
            "  Created wheel for overrides: filename=overrides-2.7.0-cp36-none-any.whl size=5601 sha256=da2c3b278835c9694a6afc6069f89321cc353f9abcac147dc3baaaf7b28685f3\n",
            "  Stored in directory: /root/.cache/pip/wheels/8c/7c/ef/80508418b67d87371c5b3de49e03eb22ee7c1d19affb5099f8\n",
            "  Building wheel for nltk (setup.py) ... \u001b[?25l\u001b[?25hdone\n",
            "  Created wheel for nltk: filename=nltk-3.4.5-cp36-none-any.whl size=1449907 sha256=45d4bdb2cdee0e1fc69d3e01d48cc5ab0f667af237272b3bc345135b9b95a322\n",
            "  Stored in directory: /root/.cache/pip/wheels/96/86/f6/68ab24c23f207c0077381a5e3904b2815136b879538a24b483\n",
            "  Building wheel for pytelegrambotapi (setup.py) ... \u001b[?25l\u001b[?25hdone\n",
            "  Created wheel for pytelegrambotapi: filename=pyTelegramBotAPI-3.6.7-cp36-none-any.whl size=47179 sha256=3fb0929e1b338e63da6290aa8a858b0c36a709eb73b0bf9528fd299fe4738d5a\n",
            "  Stored in directory: /root/.cache/pip/wheels/23/40/18/8a34153f95ef0dc19e3954898e5a5079244b76a8afdd7d0ec5\n",
            "  Building wheel for sacremoses (setup.py) ... \u001b[?25l\u001b[?25hdone\n",
            "  Created wheel for sacremoses: filename=sacremoses-0.0.35-cp36-none-any.whl size=883999 sha256=8f71e6aa65e30f262b634f5f2d7a4ac7eebb4d4cb9d649c6d1ecc63c5ecc676e\n",
            "  Stored in directory: /root/.cache/pip/wheels/63/2a/db/63e2909042c634ef551d0d9ac825b2b0b32dede4a6d87ddc94\n",
            "  Building wheel for starlette (setup.py) ... \u001b[?25l\u001b[?25hdone\n",
            "  Created wheel for starlette: filename=starlette-0.12.9-cp36-none-any.whl size=57245 sha256=a04c84c588417b91e7418d292cc3aa395244e266e87c492e0ae9098037452a26\n",
            "  Stored in directory: /root/.cache/pip/wheels/1c/51/5b/3828d52e185cafad941c4291b6f70894d0794be28c70addae5\n",
            "Successfully built overrides nltk pytelegrambotapi sacremoses starlette\n",
            "\u001b[31mERROR: google-colab 1.0.0 has requirement pandas~=1.1.0; python_version >= \"3.0\", but you'll have pandas 0.25.3 which is incompatible.\u001b[0m\n",
            "\u001b[31mERROR: google-colab 1.0.0 has requirement requests~=2.23.0, but you'll have requests 2.22.0 which is incompatible.\u001b[0m\n",
            "\u001b[31mERROR: fbprophet 0.7.1 has requirement pandas>=1.0.4, but you'll have pandas 0.25.3 which is incompatible.\u001b[0m\n",
            "\u001b[31mERROR: datascience 0.10.6 has requirement folium==0.2.1, but you'll have folium 0.8.3 which is incompatible.\u001b[0m\n",
            "\u001b[31mERROR: albumentations 0.1.12 has requirement imgaug<0.2.7,>=0.2.5, but you'll have imgaug 0.2.9 which is incompatible.\u001b[0m\n",
            "Installing collected packages: numpy, rusenttokenize, scikit-learn, overrides, idna, requests, nltk, ruamel.yaml, pymorphy2-dicts-ru, pytelegrambotapi, pydantic, starlette, fastapi, pytz, pandas, httptools, h11, websockets, uvloop, uvicorn, cryptography, pyopenssl, dawg-python, pymorphy2-dicts, pymorphy2, multidict, yarl, pamqp, aiormq, aio-pika, sacremoses, Cython, deeppavlov\n",
            "  Found existing installation: numpy 1.18.5\n",
            "    Uninstalling numpy-1.18.5:\n",
            "      Successfully uninstalled numpy-1.18.5\n",
            "  Found existing installation: scikit-learn 0.22.2.post1\n",
            "    Uninstalling scikit-learn-0.22.2.post1:\n",
            "      Successfully uninstalled scikit-learn-0.22.2.post1\n",
            "  Found existing installation: idna 2.10\n",
            "    Uninstalling idna-2.10:\n",
            "      Successfully uninstalled idna-2.10\n",
            "  Found existing installation: requests 2.23.0\n",
            "    Uninstalling requests-2.23.0:\n",
            "      Successfully uninstalled requests-2.23.0\n",
            "  Found existing installation: nltk 3.2.5\n",
            "    Uninstalling nltk-3.2.5:\n",
            "      Successfully uninstalled nltk-3.2.5\n",
            "  Found existing installation: pytz 2018.9\n",
            "    Uninstalling pytz-2018.9:\n",
            "      Successfully uninstalled pytz-2018.9\n",
            "  Found existing installation: pandas 1.1.2\n",
            "    Uninstalling pandas-1.1.2:\n",
            "      Successfully uninstalled pandas-1.1.2\n",
            "  Found existing installation: Cython 0.29.21\n",
            "    Uninstalling Cython-0.29.21:\n",
            "      Successfully uninstalled Cython-0.29.21\n",
            "Successfully installed Cython-0.29.14 aio-pika-6.4.1 aiormq-3.2.3 cryptography-3.1.1 dawg-python-0.7.2 deeppavlov-0.12.1 fastapi-0.47.1 h11-0.9.0 httptools-0.1.1 idna-2.8 multidict-4.7.6 nltk-3.4.5 numpy-1.18.0 overrides-2.7.0 pamqp-2.3.0 pandas-0.25.3 pydantic-1.3 pymorphy2-0.8 pymorphy2-dicts-2.4.393442.3710985 pymorphy2-dicts-ru-2.4.404381.4453942 pyopenssl-19.1.0 pytelegrambotapi-3.6.7 pytz-2019.1 requests-2.22.0 ruamel.yaml-0.15.100 rusenttokenize-0.0.5 sacremoses-0.0.35 scikit-learn-0.21.2 starlette-0.12.9 uvicorn-0.11.7 uvloop-0.14.0 websockets-8.1 yarl-1.6.0\n"
          ],
          "name": "stdout"
        },
        {
          "output_type": "display_data",
          "data": {
            "application/vnd.colab-display-data+json": {
              "pip_warning": {
                "packages": [
                  "numpy",
                  "pandas",
                  "pytz",
                  "sklearn"
                ]
              }
            }
          },
          "metadata": {
            "tags": []
          }
        }
      ]
    },
    {
      "cell_type": "code",
      "metadata": {
        "id": "2RtdWqy_pm9m",
        "colab": {
          "base_uri": "https://localhost:8080/",
          "height": 360
        },
        "outputId": "7dddcd69-9995-4330-cf32-68bd77e8b1fa"
      },
      "source": [
        "!pip install hdbscan"
      ],
      "execution_count": null,
      "outputs": [
        {
          "output_type": "stream",
          "text": [
            "Collecting hdbscan\n",
            "\u001b[?25l  Downloading https://files.pythonhosted.org/packages/22/2f/2423d844072f007a74214c1adc46260e45f034bb1679ccadfbb8a601f647/hdbscan-0.8.26.tar.gz (4.7MB)\n",
            "\u001b[K     |████████████████████████████████| 4.7MB 2.5MB/s \n",
            "\u001b[?25h  Installing build dependencies ... \u001b[?25l\u001b[?25hdone\n",
            "  Getting requirements to build wheel ... \u001b[?25l\u001b[?25hdone\n",
            "    Preparing wheel metadata ... \u001b[?25l\u001b[?25hdone\n",
            "Requirement already satisfied: scipy>=0.9 in /usr/local/lib/python3.6/dist-packages (from hdbscan) (1.4.1)\n",
            "Requirement already satisfied: six in /usr/local/lib/python3.6/dist-packages (from hdbscan) (1.15.0)\n",
            "Requirement already satisfied: scikit-learn>=0.17 in /usr/local/lib/python3.6/dist-packages (from hdbscan) (0.21.2)\n",
            "Requirement already satisfied: numpy>=1.16.0 in /usr/local/lib/python3.6/dist-packages (from hdbscan) (1.18.0)\n",
            "Requirement already satisfied: joblib in /usr/local/lib/python3.6/dist-packages (from hdbscan) (0.16.0)\n",
            "Requirement already satisfied: cython>=0.27 in /usr/local/lib/python3.6/dist-packages (from hdbscan) (0.29.14)\n",
            "Building wheels for collected packages: hdbscan\n",
            "  Building wheel for hdbscan (PEP 517) ... \u001b[?25l\u001b[?25hdone\n",
            "  Created wheel for hdbscan: filename=hdbscan-0.8.26-cp36-cp36m-linux_x86_64.whl size=2354327 sha256=9205bad8cd5f946ec94d894d988715526b9dbd7a0176a1d017debbfd2536b900\n",
            "  Stored in directory: /root/.cache/pip/wheels/82/38/41/372f034d8abd271ef7787a681e0a47fc05d472683a7eb088ed\n",
            "Successfully built hdbscan\n",
            "Installing collected packages: hdbscan\n",
            "Successfully installed hdbscan-0.8.26\n"
          ],
          "name": "stdout"
        }
      ]
    },
    {
      "cell_type": "code",
      "metadata": {
        "id": "N5w5gZ22qDdu",
        "colab": {
          "base_uri": "https://localhost:8080/",
          "height": 34
        },
        "outputId": "9a8983ac-9ae2-47a8-bb43-431b60dcfcf3"
      },
      "source": [
        "!pip install tqdm"
      ],
      "execution_count": null,
      "outputs": [
        {
          "output_type": "stream",
          "text": [
            "Requirement already satisfied: tqdm in /usr/local/lib/python3.6/dist-packages (4.41.1)\n"
          ],
          "name": "stdout"
        }
      ]
    },
    {
      "cell_type": "code",
      "metadata": {
        "id": "fQtk2FAyus2S",
        "colab": {
          "base_uri": "https://localhost:8080/",
          "height": 955
        },
        "outputId": "b802e0b8-23b1-4709-dfa0-f51a4ef87bd8"
      },
      "source": [
        "!pip install tensorflow-gpu==1.15"
      ],
      "execution_count": null,
      "outputs": [
        {
          "output_type": "stream",
          "text": [
            "Collecting tensorflow-gpu==1.15\n",
            "\u001b[?25l  Downloading https://files.pythonhosted.org/packages/a5/ad/933140e74973fb917a194ab814785e7c23680ca5dee6d663a509fe9579b6/tensorflow_gpu-1.15.0-cp36-cp36m-manylinux2010_x86_64.whl (411.5MB)\n",
            "\u001b[K     |████████████████████████████████| 411.5MB 34kB/s \n",
            "\u001b[?25hRequirement already satisfied: astor>=0.6.0 in /usr/local/lib/python3.6/dist-packages (from tensorflow-gpu==1.15) (0.8.1)\n",
            "Requirement already satisfied: numpy<2.0,>=1.16.0 in /usr/local/lib/python3.6/dist-packages (from tensorflow-gpu==1.15) (1.18.0)\n",
            "Requirement already satisfied: termcolor>=1.1.0 in /usr/local/lib/python3.6/dist-packages (from tensorflow-gpu==1.15) (1.1.0)\n",
            "Requirement already satisfied: wheel>=0.26 in /usr/local/lib/python3.6/dist-packages (from tensorflow-gpu==1.15) (0.35.1)\n",
            "Requirement already satisfied: protobuf>=3.6.1 in /usr/local/lib/python3.6/dist-packages (from tensorflow-gpu==1.15) (3.12.4)\n",
            "\u001b[33mWARNING: Retrying (Retry(total=4, connect=None, read=None, redirect=None, status=None)) after connection broken by 'ProtocolError('Connection aborted.', OSError(\"(104, 'ECONNRESET')\",))': /simple/tensorboard/\u001b[0m\n",
            "Collecting tensorboard<1.16.0,>=1.15.0\n",
            "\u001b[33m  WARNING: Retrying (Retry(total=4, connect=None, read=None, redirect=None, status=None)) after connection broken by 'ProtocolError('Connection aborted.', OSError(\"(104, 'ECONNRESET')\",))': /packages/1e/e9/d3d747a97f7188f48aa5eda486907f3b345cd409f0a0850468ba867db246/tensorboard-1.15.0-py3-none-any.whl\u001b[0m\n",
            "\u001b[?25l  Downloading https://files.pythonhosted.org/packages/1e/e9/d3d747a97f7188f48aa5eda486907f3b345cd409f0a0850468ba867db246/tensorboard-1.15.0-py3-none-any.whl (3.8MB)\n",
            "\u001b[K     |████████████████████████████████| 3.8MB 2.7MB/s \n",
            "\u001b[?25hCollecting gast==0.2.2\n",
            "  Downloading https://files.pythonhosted.org/packages/4e/35/11749bf99b2d4e3cceb4d55ca22590b0d7c2c62b9de38ac4a4a7f4687421/gast-0.2.2.tar.gz\n",
            "Collecting keras-applications>=1.0.8\n",
            "\u001b[?25l  Downloading https://files.pythonhosted.org/packages/71/e3/19762fdfc62877ae9102edf6342d71b28fbfd9dea3d2f96a882ce099b03f/Keras_Applications-1.0.8-py3-none-any.whl (50kB)\n",
            "\u001b[K     |████████████████████████████████| 51kB 5.9MB/s \n",
            "\u001b[?25hRequirement already satisfied: google-pasta>=0.1.6 in /usr/local/lib/python3.6/dist-packages (from tensorflow-gpu==1.15) (0.2.0)\n",
            "Requirement already satisfied: keras-preprocessing>=1.0.5 in /usr/local/lib/python3.6/dist-packages (from tensorflow-gpu==1.15) (1.1.2)\n",
            "Collecting tensorflow-estimator==1.15.1\n",
            "\u001b[?25l  Downloading https://files.pythonhosted.org/packages/de/62/2ee9cd74c9fa2fa450877847ba560b260f5d0fb70ee0595203082dafcc9d/tensorflow_estimator-1.15.1-py2.py3-none-any.whl (503kB)\n",
            "\u001b[K     |████████████████████████████████| 512kB 27.2MB/s \n",
            "\u001b[?25hRequirement already satisfied: opt-einsum>=2.3.2 in /usr/local/lib/python3.6/dist-packages (from tensorflow-gpu==1.15) (3.3.0)\n",
            "Requirement already satisfied: wrapt>=1.11.1 in /usr/local/lib/python3.6/dist-packages (from tensorflow-gpu==1.15) (1.12.1)\n",
            "Requirement already satisfied: grpcio>=1.8.6 in /usr/local/lib/python3.6/dist-packages (from tensorflow-gpu==1.15) (1.32.0)\n",
            "Requirement already satisfied: absl-py>=0.7.0 in /usr/local/lib/python3.6/dist-packages (from tensorflow-gpu==1.15) (0.10.0)\n",
            "Requirement already satisfied: six>=1.10.0 in /usr/local/lib/python3.6/dist-packages (from tensorflow-gpu==1.15) (1.15.0)\n",
            "Requirement already satisfied: setuptools in /usr/local/lib/python3.6/dist-packages (from protobuf>=3.6.1->tensorflow-gpu==1.15) (50.3.0)\n",
            "Requirement already satisfied: markdown>=2.6.8 in /usr/local/lib/python3.6/dist-packages (from tensorboard<1.16.0,>=1.15.0->tensorflow-gpu==1.15) (3.2.2)\n",
            "Requirement already satisfied: werkzeug>=0.11.15 in /usr/local/lib/python3.6/dist-packages (from tensorboard<1.16.0,>=1.15.0->tensorflow-gpu==1.15) (1.0.1)\n",
            "Requirement already satisfied: h5py in /usr/local/lib/python3.6/dist-packages (from keras-applications>=1.0.8->tensorflow-gpu==1.15) (2.10.0)\n",
            "Requirement already satisfied: importlib-metadata; python_version < \"3.8\" in /usr/local/lib/python3.6/dist-packages (from markdown>=2.6.8->tensorboard<1.16.0,>=1.15.0->tensorflow-gpu==1.15) (2.0.0)\n",
            "Requirement already satisfied: zipp>=0.5 in /usr/local/lib/python3.6/dist-packages (from importlib-metadata; python_version < \"3.8\"->markdown>=2.6.8->tensorboard<1.16.0,>=1.15.0->tensorflow-gpu==1.15) (3.2.0)\n",
            "Building wheels for collected packages: gast\n",
            "  Building wheel for gast (setup.py) ... \u001b[?25l\u001b[?25hdone\n",
            "  Created wheel for gast: filename=gast-0.2.2-cp36-none-any.whl size=7542 sha256=916030d95f759f9b6822ffc2086db989a2ccb9bab91dd1f5c500727a2676bbe5\n",
            "  Stored in directory: /root/.cache/pip/wheels/5c/2e/7e/a1d4d4fcebe6c381f378ce7743a3ced3699feb89bcfbdadadd\n",
            "Successfully built gast\n",
            "\u001b[31mERROR: tensorflow 2.3.0 has requirement gast==0.3.3, but you'll have gast 0.2.2 which is incompatible.\u001b[0m\n",
            "\u001b[31mERROR: tensorflow 2.3.0 has requirement tensorboard<3,>=2.3.0, but you'll have tensorboard 1.15.0 which is incompatible.\u001b[0m\n",
            "\u001b[31mERROR: tensorflow 2.3.0 has requirement tensorflow-estimator<2.4.0,>=2.3.0, but you'll have tensorflow-estimator 1.15.1 which is incompatible.\u001b[0m\n",
            "\u001b[31mERROR: tensorflow-probability 0.11.0 has requirement gast>=0.3.2, but you'll have gast 0.2.2 which is incompatible.\u001b[0m\n",
            "Installing collected packages: tensorboard, gast, keras-applications, tensorflow-estimator, tensorflow-gpu\n",
            "  Found existing installation: tensorboard 2.3.0\n",
            "    Uninstalling tensorboard-2.3.0:\n",
            "      Successfully uninstalled tensorboard-2.3.0\n",
            "  Found existing installation: gast 0.3.3\n",
            "    Uninstalling gast-0.3.3:\n",
            "      Successfully uninstalled gast-0.3.3\n",
            "  Found existing installation: tensorflow-estimator 2.3.0\n",
            "    Uninstalling tensorflow-estimator-2.3.0:\n",
            "      Successfully uninstalled tensorflow-estimator-2.3.0\n",
            "Successfully installed gast-0.2.2 keras-applications-1.0.8 tensorboard-1.15.0 tensorflow-estimator-1.15.1 tensorflow-gpu-1.15.0\n"
          ],
          "name": "stdout"
        }
      ]
    },
    {
      "cell_type": "code",
      "metadata": {
        "id": "oPT1GV24pAeB",
        "colab": {
          "base_uri": "https://localhost:8080/",
          "height": 170
        },
        "outputId": "93be4050-21a1-4398-d1a2-56a5c61c89bb"
      },
      "source": [
        "from sklearn.decomposition import PCA\n",
        "import numpy as np\n",
        "import pandas as pd\n",
        "\n",
        "#Graphs\n",
        "import matplotlib.pyplot as plt\n",
        "import seaborn as sns\n",
        "%matplotlib inline\n",
        "\n",
        "#Pre-trained BERT and ELMo for Russian\n",
        "from deeppavlov.core.common.file import read_json\n",
        "from deeppavlov import build_model, configs\n",
        "from deeppavlov.models.embedders.elmo_embedder import ELMoEmbedder\n",
        "\n",
        "#Grid search to find optimal parameters\n",
        "from sklearn.metrics.pairwise import pairwise_distances\n",
        "from sklearn.model_selection import GridSearchCV\n",
        "\n",
        "# Dimension reduction and clustering libraries\n",
        "import umap\n",
        "import hdbscan\n",
        "import sklearn.cluster as cluster\n",
        "from sklearn.metrics import adjusted_rand_score, adjusted_mutual_info_score\n",
        "import tqdm"
      ],
      "execution_count": null,
      "outputs": [
        {
          "output_type": "stream",
          "text": [
            "[nltk_data] Downloading package punkt to /root/nltk_data...\n",
            "[nltk_data]   Unzipping tokenizers/punkt.zip.\n",
            "[nltk_data] Downloading package stopwords to /root/nltk_data...\n",
            "[nltk_data]   Unzipping corpora/stopwords.zip.\n",
            "[nltk_data] Downloading package perluniprops to /root/nltk_data...\n",
            "[nltk_data]   Unzipping misc/perluniprops.zip.\n",
            "[nltk_data] Downloading package nonbreaking_prefixes to\n",
            "[nltk_data]     /root/nltk_data...\n",
            "[nltk_data]   Unzipping corpora/nonbreaking_prefixes.zip.\n"
          ],
          "name": "stderr"
        }
      ]
    },
    {
      "cell_type": "code",
      "metadata": {
        "id": "Yz2jmiDhpAeF"
      },
      "source": [
        "#tqdm.pandas()\n",
        "\n",
        "# progress bar\n",
        "from tqdm import tqdm, tqdm_notebook\n",
        "\n",
        "# instantiate\n",
        "tqdm.pandas(tqdm_notebook)\n",
        "\n",
        "from nltk.corpus import stopwords\n",
        "russian_stopwords = stopwords.words(\"russian\")"
      ],
      "execution_count": null,
      "outputs": []
    },
    {
      "cell_type": "code",
      "metadata": {
        "id": "B3yCsJkZpAeJ"
      },
      "source": [
        "def remove_target_word(context, positions):\n",
        "    positions = [i.split('-') for i in positions.split(',')]\n",
        "    for position in positions:\n",
        "        start = int(position[0])\n",
        "        end = int(position[1])\n",
        "        return context.replace(context[start:end], '')"
      ],
      "execution_count": null,
      "outputs": []
    },
    {
      "cell_type": "code",
      "metadata": {
        "id": "iLyhOhItpAeM"
      },
      "source": [
        "def elmo_preprocess(text):\n",
        "    result = []\n",
        "    for sentence in text.split('.'):\n",
        "        tokens = [re.sub('[^А-Яа-я.!? ]', ' ', token) for token in word_tokenize(sentence) if token not in russian_stopwords\\\n",
        "              and token != \" \" and token != \"\" \\\n",
        "              and token.strip() not in punctuation]\n",
        "        result.append(tokens)\n",
        "    return [x for x in result if x]"
      ],
      "execution_count": null,
      "outputs": []
    },
    {
      "cell_type": "code",
      "metadata": {
        "id": "hhX5RbVupAeP"
      },
      "source": [
        "def bert_preprocess(text):\n",
        "    result = []\n",
        "    for sentence in text.split('.'):\n",
        "        tokens = [re.sub('[^А-Яа-я.!? ]', ' ', token) for token in word_tokenize(sentence) if token not in russian_stopwords\\\n",
        "              and token != \" \" and token != \"\" \\\n",
        "              and token.strip() not in punctuation]\n",
        "        sentence = ' '.join(tokens)\n",
        "        result.append(sentence)\n",
        "    return [x for x in result if x]"
      ],
      "execution_count": null,
      "outputs": []
    },
    {
      "cell_type": "code",
      "metadata": {
        "id": "fcr2Kg4RpAeS",
        "colab": {
          "base_uri": "https://localhost:8080/",
          "height": 343
        },
        "outputId": "8e8f8e5c-9a80-40b9-9291-b234e81fe36d"
      },
      "source": [
        "#Download ELMO model for Russian\n",
        "elmo = ELMoEmbedder(\"http://files.deeppavlov.ai/deeppavlov_data/elmo_ru-news_wmt11-16_1.5M_steps.tar.gz\",\\\n",
        "                    elmo_output_names=[\"elmo\"])"
      ],
      "execution_count": null,
      "outputs": [
        {
          "output_type": "stream",
          "text": [
            "WARNING:tensorflow:From /usr/local/lib/python3.6/dist-packages/deeppavlov/models/embedders/elmo_embedder.py:186: The name tf.ConfigProto is deprecated. Please use tf.compat.v1.ConfigProto instead.\n",
            "\n"
          ],
          "name": "stdout"
        },
        {
          "output_type": "stream",
          "text": [
            "WARNING:tensorflow:From /usr/local/lib/python3.6/dist-packages/deeppavlov/models/embedders/elmo_embedder.py:186: The name tf.ConfigProto is deprecated. Please use tf.compat.v1.ConfigProto instead.\n",
            "\n"
          ],
          "name": "stderr"
        },
        {
          "output_type": "stream",
          "text": [
            "WARNING:tensorflow:From /usr/local/lib/python3.6/dist-packages/deeppavlov/models/embedders/elmo_embedder.py:188: The name tf.Session is deprecated. Please use tf.compat.v1.Session instead.\n",
            "\n"
          ],
          "name": "stdout"
        },
        {
          "output_type": "stream",
          "text": [
            "WARNING:tensorflow:From /usr/local/lib/python3.6/dist-packages/deeppavlov/models/embedders/elmo_embedder.py:188: The name tf.Session is deprecated. Please use tf.compat.v1.Session instead.\n",
            "\n"
          ],
          "name": "stderr"
        },
        {
          "output_type": "stream",
          "text": [
            "WARNING:tensorflow:From /usr/local/lib/python3.6/dist-packages/deeppavlov/models/embedders/elmo_embedder.py:190: The name tf.placeholder is deprecated. Please use tf.compat.v1.placeholder instead.\n",
            "\n"
          ],
          "name": "stdout"
        },
        {
          "output_type": "stream",
          "text": [
            "WARNING:tensorflow:From /usr/local/lib/python3.6/dist-packages/deeppavlov/models/embedders/elmo_embedder.py:190: The name tf.placeholder is deprecated. Please use tf.compat.v1.placeholder instead.\n",
            "\n"
          ],
          "name": "stderr"
        },
        {
          "output_type": "stream",
          "text": [
            "INFO:tensorflow:Saver not created because there are no variables in the graph to restore\n"
          ],
          "name": "stdout"
        },
        {
          "output_type": "stream",
          "text": [
            "INFO:tensorflow:Saver not created because there are no variables in the graph to restore\n"
          ],
          "name": "stderr"
        },
        {
          "output_type": "stream",
          "text": [
            "WARNING:tensorflow:From /usr/local/lib/python3.6/dist-packages/deeppavlov/models/embedders/elmo_embedder.py:198: The name tf.global_variables_initializer is deprecated. Please use tf.compat.v1.global_variables_initializer instead.\n",
            "\n"
          ],
          "name": "stdout"
        },
        {
          "output_type": "stream",
          "text": [
            "WARNING:tensorflow:From /usr/local/lib/python3.6/dist-packages/deeppavlov/models/embedders/elmo_embedder.py:198: The name tf.global_variables_initializer is deprecated. Please use tf.compat.v1.global_variables_initializer instead.\n",
            "\n"
          ],
          "name": "stderr"
        }
      ]
    },
    {
      "cell_type": "code",
      "metadata": {
        "id": "05ZYpCUdpAeV"
      },
      "source": [
        "#Download RUBERT configs\n",
        "bert_config = read_json(configs.embedder.bert_embedder)\n",
        "bert_config['metadata']['download'][0]['url'] = 'http://files.deeppavlov.ai/deeppavlov_data/bert/rubert_cased_L-12_H-768_A-12_pt.tar.gz'\n",
        "bert_config['metadata']['variables']['BERT_PATH'] = '{DOWNLOADS_PATH}/bert_models/rubert_cased_L-12_H-768_A-12_pt'"
      ],
      "execution_count": null,
      "outputs": []
    },
    {
      "cell_type": "code",
      "metadata": {
        "id": "mntaY5uGw6aj",
        "colab": {
          "base_uri": "https://localhost:8080/",
          "height": 496
        },
        "outputId": "7cee56a8-318a-435b-e7f5-4db082711723"
      },
      "source": [
        "!pip install transformers"
      ],
      "execution_count": null,
      "outputs": [
        {
          "output_type": "stream",
          "text": [
            "Collecting transformers\n",
            "\u001b[?25l  Downloading https://files.pythonhosted.org/packages/19/22/aff234f4a841f8999e68a7a94bdd4b60b4cebcfeca5d67d61cd08c9179de/transformers-3.3.1-py3-none-any.whl (1.1MB)\n",
            "\u001b[K     |████████████████████████████████| 1.1MB 2.7MB/s \n",
            "\u001b[?25hCollecting sentencepiece!=0.1.92\n",
            "\u001b[?25l  Downloading https://files.pythonhosted.org/packages/d4/a4/d0a884c4300004a78cca907a6ff9a5e9fe4f090f5d95ab341c53d28cbc58/sentencepiece-0.1.91-cp36-cp36m-manylinux1_x86_64.whl (1.1MB)\n",
            "\u001b[K     |████████████████████████████████| 1.1MB 18.1MB/s \n",
            "\u001b[?25hRequirement already satisfied: dataclasses; python_version < \"3.7\" in /usr/local/lib/python3.6/dist-packages (from transformers) (0.7)\n",
            "Requirement already satisfied: packaging in /usr/local/lib/python3.6/dist-packages (from transformers) (20.4)\n",
            "Requirement already satisfied: sacremoses in /usr/local/lib/python3.6/dist-packages (from transformers) (0.0.35)\n",
            "Requirement already satisfied: filelock in /usr/local/lib/python3.6/dist-packages (from transformers) (3.0.12)\n",
            "Collecting tokenizers==0.8.1.rc2\n",
            "\u001b[?25l  Downloading https://files.pythonhosted.org/packages/80/83/8b9fccb9e48eeb575ee19179e2bdde0ee9a1904f97de5f02d19016b8804f/tokenizers-0.8.1rc2-cp36-cp36m-manylinux1_x86_64.whl (3.0MB)\n",
            "\u001b[K     |████████████████████████████████| 3.0MB 18.4MB/s \n",
            "\u001b[?25hRequirement already satisfied: numpy in /usr/local/lib/python3.6/dist-packages (from transformers) (1.18.0)\n",
            "Requirement already satisfied: requests in /usr/local/lib/python3.6/dist-packages (from transformers) (2.22.0)\n",
            "Requirement already satisfied: regex!=2019.12.17 in /usr/local/lib/python3.6/dist-packages (from transformers) (2019.12.20)\n",
            "Requirement already satisfied: tqdm>=4.27 in /usr/local/lib/python3.6/dist-packages (from transformers) (4.41.1)\n",
            "Requirement already satisfied: six in /usr/local/lib/python3.6/dist-packages (from packaging->transformers) (1.15.0)\n",
            "Requirement already satisfied: pyparsing>=2.0.2 in /usr/local/lib/python3.6/dist-packages (from packaging->transformers) (2.4.7)\n",
            "Requirement already satisfied: click in /usr/local/lib/python3.6/dist-packages (from sacremoses->transformers) (7.1.2)\n",
            "Requirement already satisfied: joblib in /usr/local/lib/python3.6/dist-packages (from sacremoses->transformers) (0.16.0)\n",
            "Requirement already satisfied: urllib3!=1.25.0,!=1.25.1,<1.26,>=1.21.1 in /usr/local/lib/python3.6/dist-packages (from requests->transformers) (1.24.3)\n",
            "Requirement already satisfied: certifi>=2017.4.17 in /usr/local/lib/python3.6/dist-packages (from requests->transformers) (2020.6.20)\n",
            "Requirement already satisfied: chardet<3.1.0,>=3.0.2 in /usr/local/lib/python3.6/dist-packages (from requests->transformers) (3.0.4)\n",
            "Requirement already satisfied: idna<2.9,>=2.5 in /usr/local/lib/python3.6/dist-packages (from requests->transformers) (2.8)\n",
            "Installing collected packages: sentencepiece, tokenizers, transformers\n",
            "Successfully installed sentencepiece-0.1.91 tokenizers-0.8.1rc2 transformers-3.3.1\n"
          ],
          "name": "stdout"
        }
      ]
    },
    {
      "cell_type": "code",
      "metadata": {
        "id": "YxPZgnEcxFux"
      },
      "source": [
        "import transformers"
      ],
      "execution_count": null,
      "outputs": []
    },
    {
      "cell_type": "code",
      "metadata": {
        "id": "FHwVvGPEpAeZ",
        "colab": {
          "base_uri": "https://localhost:8080/",
          "height": 122
        },
        "outputId": "91b161f2-dcd3-4738-9e1e-7cc5e382e968"
      },
      "source": [
        "#загружаем модель BERT\n",
        "bert = build_model(bert_config, download=True)"
      ],
      "execution_count": null,
      "outputs": [
        {
          "output_type": "stream",
          "text": [
            "2020-10-10 22:25:46.329 INFO in 'deeppavlov.core.data.utils'['utils'] at line 94: Downloading from http://files.deeppavlov.ai/deeppavlov_data/bert/rubert_cased_L-12_H-768_A-12_pt.tar.gz to /root/.deeppavlov/downloads/rubert_cased_L-12_H-768_A-12_pt.tar.gz\n",
            "INFO:deeppavlov.core.data.utils:Downloading from http://files.deeppavlov.ai/deeppavlov_data/bert/rubert_cased_L-12_H-768_A-12_pt.tar.gz to /root/.deeppavlov/downloads/rubert_cased_L-12_H-768_A-12_pt.tar.gz\n",
            "100%|██████████| 662M/662M [02:46<00:00, 3.98MB/s]\n",
            "2020-10-10 22:28:33.438 INFO in 'deeppavlov.core.data.utils'['utils'] at line 269: Extracting /root/.deeppavlov/downloads/rubert_cased_L-12_H-768_A-12_pt.tar.gz archive into /root/.deeppavlov/downloads/bert_models\n",
            "INFO:deeppavlov.core.data.utils:Extracting /root/.deeppavlov/downloads/rubert_cased_L-12_H-768_A-12_pt.tar.gz archive into /root/.deeppavlov/downloads/bert_models\n"
          ],
          "name": "stderr"
        }
      ]
    },
    {
      "cell_type": "code",
      "metadata": {
        "id": "WfPYNYzm5T31",
        "colab": {
          "base_uri": "https://localhost:8080/",
          "height": 69
        },
        "outputId": "22641870-2714-4e66-d87c-1367afd99ddb"
      },
      "source": [
        "'''bert_config = read_json(configs.embedder.bert_embedder)\n",
        "bert_config['metadata']['variables']['BERT_PATH'] = 'path/to/bert/directory'\n",
        "\n",
        "m = build_model(bert_config)\n",
        "\n",
        "texts = ['Hi, i want my embedding.', 'And mine too, please!']\n",
        "tokens, token_embs, subtokens, subtoken_embs, sent_max_embs, sent_mean_embs, bert_pooler_outputs = m(texts)'''"
      ],
      "execution_count": null,
      "outputs": [
        {
          "output_type": "execute_result",
          "data": {
            "application/vnd.google.colaboratory.intrinsic+json": {
              "type": "string"
            },
            "text/plain": [
              "\"bert_config = read_json(configs.embedder.bert_embedder)\\nbert_config['metadata']['variables']['BERT_PATH'] = 'path/to/bert/directory'\\n\\nm = build_model(bert_config)\\n\\ntexts = ['Hi, i want my embedding.', 'And mine too, please!']\\ntokens, token_embs, subtokens, subtoken_embs, sent_max_embs, sent_mean_embs, bert_pooler_outputs = m(texts)\""
            ]
          },
          "metadata": {
            "tags": []
          },
          "execution_count": 19
        }
      ]
    },
    {
      "cell_type": "code",
      "metadata": {
        "id": "mymNOZ_3ySXB",
        "colab": {
          "base_uri": "https://localhost:8080/",
          "height": 1000
        },
        "outputId": "1041b3d7-0888-470e-e339-b9a148bb8e78"
      },
      "source": [
        "help(bert)"
      ],
      "execution_count": null,
      "outputs": [
        {
          "output_type": "stream",
          "text": [
            "Help on Chainer in module deeppavlov.core.common.chainer object:\n",
            "\n",
            "class Chainer(deeppavlov.core.models.component.Component)\n",
            " |  Builds a component pipeline from heterogeneous components (Rule-based/ML/DL). It allows to train\n",
            " |  and infer models in a pipeline as a whole.\n",
            " |  \n",
            " |  Attributes:\n",
            " |      pipe: list of components and their input and output variable names for inference\n",
            " |      train_pipe: list of components and their input and output variable names for training and evaluation\n",
            " |      in_x: names of inputs for pipeline inference mode\n",
            " |      out_params: names of pipeline inference outputs\n",
            " |      in_y: names of additional inputs for pipeline training and evaluation modes\n",
            " |      forward_map: list of all variables in chainer's memory after  running every component in ``self.pipe``\n",
            " |      train_map: list of all variables in chainer's memory after  running every component in ``train_pipe.pipe``\n",
            " |      main: reference to the main component\n",
            " |  \n",
            " |  Args:\n",
            " |      in_x: names of inputs for pipeline inference mode\n",
            " |      out_params: names of pipeline inference outputs\n",
            " |      in_y: names of additional inputs for pipeline training and evaluation modes\n",
            " |  \n",
            " |  Method resolution order:\n",
            " |      Chainer\n",
            " |      deeppavlov.core.models.component.Component\n",
            " |      builtins.object\n",
            " |  \n",
            " |  Methods defined here:\n",
            " |  \n",
            " |  __call__(self, *args)\n",
            " |      Call self as a function.\n",
            " |  \n",
            " |  __getitem__(self, item)\n",
            " |  \n",
            " |  __init__(self, in_x:Union[str, list]=None, out_params:Union[str, list]=None, in_y:Union[str, list]=None, *args, **kwargs) -> None\n",
            " |      Initialize self.  See help(type(self)) for accurate signature.\n",
            " |  \n",
            " |  __repr__(self)\n",
            " |      Return repr(self).\n",
            " |  \n",
            " |  append(self, component:Union[deeppavlov.core.models.component.Component, function], in_x:[<class 'str'>, <class 'list'>, <class 'dict'>]=None, out_params:[<class 'str'>, <class 'list'>]=None, in_y:[<class 'str'>, <class 'list'>, <class 'dict'>]=None, main:bool=False)\n",
            " |  \n",
            " |  batched_call(self, *args:Reversible, batch_size:int=16) -> Union[list, Tuple[list, ...]]\n",
            " |      Partitions data into mini-batches and applies :meth:`__call__` to each batch.\n",
            " |      \n",
            " |      Args:\n",
            " |          args: input data, each element of the data corresponds to a single model inputs sequence.\n",
            " |          batch_size: the size of a batch.\n",
            " |      \n",
            " |      Returns:\n",
            " |          the model output as if the data was passed to the :meth:`__call__` method.\n",
            " |  \n",
            " |  compute(self, x, y=None, targets=None)\n",
            " |  \n",
            " |  deserialize(self, data:bytes) -> None\n",
            " |  \n",
            " |  destroy(self)\n",
            " |  \n",
            " |  get_main_component(self) -> Union[deeppavlov.core.models.serializable.Serializable, NoneType]\n",
            " |  \n",
            " |  load(self) -> None\n",
            " |  \n",
            " |  reset(self) -> None\n",
            " |  \n",
            " |  save(self) -> None\n",
            " |  \n",
            " |  serialize(self) -> bytes\n",
            " |  \n",
            " |  ----------------------------------------------------------------------\n",
            " |  Data and other attributes defined here:\n",
            " |  \n",
            " |  __abstractmethods__ = frozenset()\n",
            " |  \n",
            " |  ----------------------------------------------------------------------\n",
            " |  Data descriptors inherited from deeppavlov.core.models.component.Component:\n",
            " |  \n",
            " |  __dict__\n",
            " |      dictionary for instance variables (if defined)\n",
            " |  \n",
            " |  __weakref__\n",
            " |      list of weak references to the object (if defined)\n",
            "\n"
          ],
          "name": "stdout"
        }
      ]
    },
    {
      "cell_type": "code",
      "metadata": {
        "id": "lzpIc0DLpAee"
      },
      "source": [
        "def extract_token_vectors(bert_context_vectors, context, positions):\n",
        "    \"\"\" Function to extract BERT word embeddings from BERT-embedder's output\"\"\"\n",
        "    words = []\n",
        "    vectors = []\n",
        "    positions = [i.split('-') for i in positions.split(',')]\n",
        "    for position in positions:\n",
        "        start = int(position[0])\n",
        "        end = int(position[1])\n",
        "        words.append(context[start:end+1])\n",
        "    for word in words:\n",
        "        for list_idx, token_list in enumerate(bert_context_vectors[0]):\n",
        "            if word in token_list:\n",
        "                word_idx = token_list.index(word)\n",
        "                bert_token_vector = bert_context_vectors[1][list_idx][word_idx]\n",
        "                vectors.append(bert_token_vector)\n",
        "    try:\n",
        "        result = np.vstack(vectors)\n",
        "    except ValueError:\n",
        "        result = None\n",
        "    return result"
      ],
      "execution_count": null,
      "outputs": []
    },
    {
      "cell_type": "code",
      "metadata": {
        "id": "XPZ0sUr9pAei"
      },
      "source": [
        "def elmo_vectorize(elmo_preprocessed_text):\n",
        "    return elmo(elmo_preprocessed_text)\n",
        "\n",
        "def bert_vectorize(bert_preprocessed_text):\n",
        "    return(bert(bert_preprocessed_text))"
      ],
      "execution_count": null,
      "outputs": []
    },
    {
      "cell_type": "code",
      "metadata": {
        "id": "qScyOlWkpAel"
      },
      "source": [
        "def average_pooler_outputs_mean(vectors):\n",
        "    \"\"\" Function to average BERT pooler outputs \"\"\"\n",
        "    average_vector = np.array([sum(subvector) / len(subvector) for subvector in vectors[6].transpose()])\n",
        "    return average_vector"
      ],
      "execution_count": null,
      "outputs": []
    },
    {
      "cell_type": "code",
      "metadata": {
        "id": "d03s_IazpAen"
      },
      "source": [
        "def stack_vectors(bert_embeddings):\n",
        "    vectors = []\n",
        "    for i, vector in enumerate(bert_embeddings):\n",
        "        vectors.append(vector[0])\n",
        "        \n",
        "    X = np.vstack(vectors)\n",
        "    return X"
      ],
      "execution_count": null,
      "outputs": []
    },
    {
      "cell_type": "code",
      "metadata": {
        "id": "0Ub-c7cnpAeq",
        "colab": {
          "base_uri": "https://localhost:8080/",
          "height": 214
        },
        "outputId": "9315d92d-c6ab-4074-e891-a3a852c0c963"
      },
      "source": [
        "#Dim reduction experiments\n",
        "reducer = umap.UMAP()\n",
        "standard_embedding = reducer.fit_transform(X)\n",
        "standard_embedding.shape"
      ],
      "execution_count": null,
      "outputs": [
        {
          "output_type": "error",
          "ename": "NameError",
          "evalue": "ignored",
          "traceback": [
            "\u001b[0;31m---------------------------------------------------------------------------\u001b[0m",
            "\u001b[0;31mNameError\u001b[0m                                 Traceback (most recent call last)",
            "\u001b[0;32m<ipython-input-25-2e7cce7bbbe4>\u001b[0m in \u001b[0;36m<module>\u001b[0;34m()\u001b[0m\n\u001b[1;32m      1\u001b[0m \u001b[0;31m#Dim reduction experiments\u001b[0m\u001b[0;34m\u001b[0m\u001b[0;34m\u001b[0m\u001b[0;34m\u001b[0m\u001b[0m\n\u001b[1;32m      2\u001b[0m \u001b[0mreducer\u001b[0m \u001b[0;34m=\u001b[0m \u001b[0mumap\u001b[0m\u001b[0;34m.\u001b[0m\u001b[0mUMAP\u001b[0m\u001b[0;34m(\u001b[0m\u001b[0;34m)\u001b[0m\u001b[0;34m\u001b[0m\u001b[0;34m\u001b[0m\u001b[0m\n\u001b[0;32m----> 3\u001b[0;31m \u001b[0mstandard_embedding\u001b[0m \u001b[0;34m=\u001b[0m \u001b[0mreducer\u001b[0m\u001b[0;34m.\u001b[0m\u001b[0mfit_transform\u001b[0m\u001b[0;34m(\u001b[0m\u001b[0mX\u001b[0m\u001b[0;34m)\u001b[0m\u001b[0;34m\u001b[0m\u001b[0;34m\u001b[0m\u001b[0m\n\u001b[0m\u001b[1;32m      4\u001b[0m \u001b[0mstandard_embedding\u001b[0m\u001b[0;34m.\u001b[0m\u001b[0mshape\u001b[0m\u001b[0;34m\u001b[0m\u001b[0;34m\u001b[0m\u001b[0m\n",
            "\u001b[0;31mNameError\u001b[0m: name 'X' is not defined"
          ]
        }
      ]
    },
    {
      "cell_type": "code",
      "metadata": {
        "id": "4Hb2j3yepAeu"
      },
      "source": [
        "#Let's see what we have\n",
        "plt.scatter(standard_embedding[:, 0], standard_embedding[:, 1],\\\n",
        "            c=[sns.color_palette()[x] for x in X_gold_senses], cmap='Spectral')\n",
        "\n",
        "# plt.title(\"UMAP projection of BERT embeddings of word 'белок'\", fontsize=24);"
      ],
      "execution_count": null,
      "outputs": []
    },
    {
      "cell_type": "code",
      "metadata": {
        "id": "FNP60elxpAez"
      },
      "source": [
        "def find_parameters(X):\n",
        "    \"\"\" Function to find optimal parameters for Affinity propagation algorithm\"\"\"\n",
        "    S =-pairwise_distances(X,metric=affinity, squared=True)\n",
        "    param_grid   =  np.unique(map(int, np.linspace(np.min(S), np.median(S), 30)))\n",
        "    search = GridSearchCV(AffinityPropagation(), param_grid, verbose=0) \n",
        "    return search.fit(X)"
      ],
      "execution_count": null,
      "outputs": []
    },
    {
      "cell_type": "code",
      "metadata": {
        "id": "WhUH-8rVpAe2"
      },
      "source": [
        "def cluster_via_affinity_prop(matrix, gold_senses=list_of_dom_gold_senses, preference=preference):\n",
        "    \"\"\" Clustering via Affinity propagation algorithm \"\"\"\n",
        "    af = AffinityPropagation(preference=preference).fit(matrix)\n",
        "    cluster_centers_indices = af.cluster_centers_indices_\n",
        "    labels = af.labels_\n",
        "    n_clusters_ = len(cluster_centers_indices)\n",
        "\n",
        "    print('Estimated number of clusters: %d' % n_clusters_)\n",
        "    print(\"Homogeneity: %0.3f\" % metrics.homogeneity_score(gold_senses, labels))\n",
        "    print(\"Completeness: %0.3f\" % metrics.completeness_score(gold_senses, labels))\n",
        "    print(\"V-measure: %0.3f\" % metrics.v_measure_score(gold_senses, labels))\n",
        "    print(\"Adjusted Rand Index: %0.3f\"\n",
        "          % metrics.adjusted_rand_score(gold_senses, labels))\n",
        "    print(\"Adjusted Mutual Information: %0.3f\"\n",
        "          % metrics.adjusted_mutual_info_score(gold_senses, labels))\n",
        "    print(\"Silhouette Coefficient: %0.3f\"\n",
        "          % metrics.silhouette_score(matrix, labels, metric='sqeuclidean'))"
      ],
      "execution_count": null,
      "outputs": []
    },
    {
      "cell_type": "code",
      "metadata": {
        "id": "7Is3Dv84pAe4"
      },
      "source": [
        "def cluster_word_senses(df, preference):\n",
        "    \"\"\" Final function to cluster word meanings \"\"\"\n",
        "    predicted = []\n",
        "    gold_senses = []\n",
        "    for query in df.word.unique():\n",
        "        print('Now analyzing', query, '...')\n",
        "        df_word = df[df['word'] == query]\n",
        "        vectors = []\n",
        "        for i, vector in enumerate(df_word.target_words_bert_embs):\n",
        "            vectors.append(vector[0])\n",
        "        X = np.vstack(vectors)\n",
        "        print('emb shape: ',X.shape)\n",
        "        X_gold_senses = [int(i) for i in df_word.gold_sense_id]\n",
        "        min_gold = min(X_gold_senses)\n",
        "        X_gold_senses = [i - min_gold for i in X_gold_senses]\n",
        "        print('gold', X_gold_senses)\n",
        "        print('len gold_senses: ', len(X_gold_senses))\n",
        "        gold_senses += X_gold_senses\n",
        "        gold_senses = [str(i) for i in gold_senses]\n",
        "        \n",
        "        clustering = AffinityPropagation(preference=preference).fit(X)\n",
        "        cur_predicted = clustering.labels_.tolist()\n",
        "        predicted += cur_predicted\n",
        "        predicted = [str(i) for i in predicted]\n",
        "    \n",
        "    df.predict_sense_id = predicted\n",
        "    df.gold_senses = gold_senses\n",
        "    return df"
      ],
      "execution_count": null,
      "outputs": []
    },
    {
      "cell_type": "code",
      "metadata": {
        "id": "do6uC2h3pAe7"
      },
      "source": [
        "def ari_per_word_weighted(df):\n",
        "    \"\"\" Function for final evaluation. \"\"\"\n",
        "    \n",
        "    words = {word: (adjusted_rand_score(df_word.gold_sense_id, df_word.predict_sense_id), len(df_word))\n",
        "             for word in df.word.unique()\n",
        "             for df_word in (df.loc[df['word'] == word],)}\n",
        "    \n",
        "    print(words)\n",
        "\n",
        "    cumsum = sum(ari * count for ari, count in words.values())\n",
        "    total  = sum(count for _, count in words.values())\n",
        "    \n",
        "    print(cumsum, total)\n",
        "\n",
        "    assert total == len(df) \n",
        "\n",
        "    return cumsum / total, words"
      ],
      "execution_count": null,
      "outputs": []
    },
    {
      "cell_type": "code",
      "metadata": {
        "id": "iPxUfFcuUvLN"
      },
      "source": [
        ""
      ],
      "execution_count": null,
      "outputs": []
    },
    {
      "cell_type": "code",
      "metadata": {
        "id": "a7I8WRcYbx8g",
        "colab": {
          "base_uri": "https://localhost:8080/",
          "height": 34
        },
        "outputId": "67502ca2-f939-4864-fb2e-9c39f0b44444"
      },
      "source": [
        "import os\n",
        "from google.colab import drive\n",
        "drive.mount('/content/drive')"
      ],
      "execution_count": null,
      "outputs": [
        {
          "output_type": "stream",
          "text": [
            "Mounted at /content/drive\n"
          ],
          "name": "stdout"
        }
      ]
    },
    {
      "cell_type": "code",
      "metadata": {
        "id": "BlpVFveibx47",
        "colab": {
          "base_uri": "https://localhost:8080/",
          "height": 255
        },
        "outputId": "317fcf11-b957-470f-f9b5-59dfee59c6ca"
      },
      "source": [
        "path = os.getcwd() + '/drive/My Drive/untagged/'\n",
        "files = os.listdir(path)\n",
        "file = path + files[0]\n",
        "with open (file, encoding='utf-8') as f:\n",
        "  sentences = f.read().splitlines()\n",
        "  tokens, token_embs, subtokens, subtoken_embs, sent_max_embs, sent_mean_embs, bert_pooler_outputs = bert(sentences)\n",
        "\n",
        "print(tokens[0])\n",
        "print(token_embs[0])"
      ],
      "execution_count": null,
      "outputs": [
        {
          "output_type": "stream",
          "text": [
            "['Её', 'завернули', 'в', 'кусок', 'сероватой', 'бумаги', 'и', 'упаковали', 'в', 'прозрачный', 'мешочек', '.']\n",
            "[[ 0.10478529 -0.7811744   1.5699083  ...  0.53593516  0.17087647\n",
            "   0.01380411]\n",
            " [ 0.46247905 -0.8807056   0.50503373 ...  0.32085255 -0.5700146\n",
            "  -0.6682901 ]\n",
            " [ 1.605512   -1.0558653  -0.38912356 ...  1.8150644  -0.12538502\n",
            "  -1.094595  ]\n",
            " ...\n",
            " [ 0.33373445 -0.10884144  0.15312503 ...  0.2741692   0.09904095\n",
            "  -0.38784984]\n",
            " [-0.44039008  0.24926904 -0.8269304  ...  0.08725259 -0.20478015\n",
            "   0.517728  ]\n",
            " [ 0.2973631  -0.42974395  0.71850234 ...  0.38392076  0.09275401\n",
            "  -0.2803605 ]]\n"
          ],
          "name": "stdout"
        }
      ]
    },
    {
      "cell_type": "code",
      "metadata": {
        "id": "PTdodm7jtAXh",
        "colab": {
          "base_uri": "https://localhost:8080/",
          "height": 255
        },
        "outputId": "6a32393b-5561-45d2-ee67-57177954b42a"
      },
      "source": [
        "file = path + files[1]\n",
        "with open (file, encoding='utf-8') as f:\n",
        "  sentences = f.read().splitlines()\n",
        "  tokens_1, token_embs_1, subtokens_1, subtoken_embs_1, sent_max_embs_1, sent_mean_embs_1, bert_pooler_outputs_1 = bert(sentences)\n",
        "print(tokens_1[0])\n",
        "print(token_embs_1[0])"
      ],
      "execution_count": null,
      "outputs": [
        {
          "output_type": "stream",
          "text": [
            "['\\ufeffС', 'ностальгией', 'вспоминаю', 'только', 'универ', ',', 'это', 'особый', 'мир', ',', 'по', 'которому', 'потом', 'скучаешь', '.']\n",
            "[[-0.14588007 -0.185153    0.6619032  ...  0.28623748  0.38101152\n",
            "   0.07768197]\n",
            " [-0.02604854 -0.07009289 -0.02454762 ...  0.34504956  0.32805717\n",
            "  -0.2177502 ]\n",
            " [ 0.3318938  -0.00854438  0.09116171 ... -0.7021017  -0.23567672\n",
            "   0.28729188]\n",
            " ...\n",
            " [ 0.29097483 -0.5836606   0.25092518 ... -0.57325196 -0.05737009\n",
            "  -0.0649939 ]\n",
            " [ 0.50509393 -0.17283788 -0.38833037 ... -0.92600673 -0.9555784\n",
            "   0.19540757]\n",
            " [ 0.27181438 -0.37938774  0.3942691  ...  0.02811895  0.11207419\n",
            "  -0.18031313]]\n"
          ],
          "name": "stdout"
        }
      ]
    },
    {
      "cell_type": "code",
      "metadata": {
        "id": "qIrvoFu3tAxP",
        "colab": {
          "base_uri": "https://localhost:8080/",
          "height": 275
        },
        "outputId": "c82070a5-8cad-4ee4-acd3-234678bd3c7c"
      },
      "source": [
        "file = path + files[2]\n",
        "with open (file, encoding='utf-8') as f:\n",
        "  sentences = f.read().splitlines()\n",
        "  tokens_2, token_embs_2, subtokens_2, subtoken_embs_2, sent_max_embs_2, sent_mean_embs_2, bert_pooler_outputs_2 = bert(sentences)\n",
        "print(tokens_2[0])\n",
        "print(token_embs_2[0])"
      ],
      "execution_count": null,
      "outputs": [
        {
          "output_type": "stream",
          "text": [
            "['Кто', 'же', 'знал', ',', 'что', 'когда', '-', 'нибудь', 'их', 'столкнёт', 'судьба', 'в', 'лице', 'нового', 'сотрудника', '—', 'Самохвалова', '…', '«', '…', 'Пламя', 'скорби', 'свистит', 'под', 'ногами', ',', '/', 'Ворохами', 'листвы', 'шевеля', '…', '»', 'В', '«', 'Статистическое', 'учреждение', '»', 'назначили', 'нового', '«', 'главного', '»', ',', 'которым', 'оказывается', 'старый', 'друг', 'одной', 'из', 'сотрудниц', '—', 'Рыжовой', '.']\n",
            "[[-0.92314786 -0.01130431  0.68326384 ...  0.38482624 -0.27290708\n",
            "  -0.07632419]\n",
            " [ 0.3012279  -0.564792   -0.76994497 ...  0.7971826  -0.29860768\n",
            "  -0.30226147]\n",
            " [ 0.5594669  -0.40273002  0.08004247 ...  0.40653935 -0.09368179\n",
            "  -0.42906556]\n",
            " ...\n",
            " [-0.41394758 -0.28846028  0.1755642  ...  1.5149912   0.65843076\n",
            "   0.08524976]\n",
            " [-0.5662451  -0.4801915  -0.3071556  ...  0.50742614  0.4585031\n",
            "  -0.02253559]\n",
            " [ 0.1304772  -0.8480271  -0.12245673 ...  0.45152247 -0.20638594\n",
            "   0.12305369]]\n"
          ],
          "name": "stdout"
        }
      ]
    },
    {
      "cell_type": "code",
      "metadata": {
        "id": "mKa9B8SetA72",
        "colab": {
          "base_uri": "https://localhost:8080/",
          "height": 275
        },
        "outputId": "a35a29a7-55e7-4d65-ff7a-950117aacd12"
      },
      "source": [
        "file = path + files[3]\n",
        "with open (file, encoding='utf-8') as f:\n",
        "  sentences = f.read().splitlines()\n",
        "  tokens_3, token_embs_3, subtokens_3, subtoken_embs_3, sent_max_embs_3, sent_mean_embs_3, bert_pooler_outputs_3 = bert(sentences)\n",
        "print(tokens_3[0])\n",
        "print(token_embs_3[0])"
      ],
      "execution_count": null,
      "outputs": [
        {
          "output_type": "stream",
          "text": [
            "['На', 'данном', 'временном', 'интервале', 'наши', 'пристрастия', '—', 'горные', ',', 'двухподвесочные', ',', 'чтобы', 'и', 'по', 'лестницам', 'супермаркета', 'можно', 'было', 'спуститься', ',', 'и', 'сквозь', 'лес', 'пробиться', ',', 'и', 'на', 'трассе', 'двадцать', 'километров', 'одолеть', 'без', 'усталости', '.']\n",
            "[[ 0.4358259  -0.6092326   1.0631086  ...  1.4777629   0.34908387\n",
            "   0.01570448]\n",
            " [ 0.6002555  -1.0388457   0.6063347  ...  0.9035062  -0.02797903\n",
            "   0.31063744]\n",
            " [ 0.17498188  0.5650411   0.9754694  ...  1.406402   -0.31218663\n",
            "  -1.1108836 ]\n",
            " ...\n",
            " [ 0.40839773  0.3407201  -0.5083811  ... -0.15181172 -0.5281812\n",
            "   0.2832448 ]\n",
            " [ 0.34586433  0.1529005   0.5693935  ... -0.3467772  -0.8774383\n",
            "  -0.5758203 ]\n",
            " [ 0.17596379 -0.19243076  0.29428944 ...  0.0981304  -0.01304511\n",
            "  -0.37157515]]\n"
          ],
          "name": "stdout"
        }
      ]
    },
    {
      "cell_type": "code",
      "metadata": {
        "id": "H6VxO22d5fmW"
      },
      "source": [
        "from sklearn.cluster import KMeans"
      ],
      "execution_count": null,
      "outputs": []
    },
    {
      "cell_type": "code",
      "metadata": {
        "id": "e3yYFfJcvEdM"
      },
      "source": [
        "def clusterfrick(tokens, token_embs, word, cluster_number):\n",
        "  clusterlist = []\n",
        "  sentlist = []\n",
        "  for sent_index, sentence in enumerate(tokens):\n",
        "    for token_index, token in enumerate(sentence):\n",
        "      if word == token:\n",
        "        clusterlist.append(token_embs[sent_index][token_index])\n",
        "        sentlist.append(sentence)\n",
        "\n",
        "\n",
        "  clusterer = KMeans(n_clusters = cluster_number)\n",
        "  clusterer = clusterer.fit(clusterlist)\n",
        "  clusters = clusterer.predict(clusterlist)\n",
        "  print(len(clusters))\n",
        "  return clusters,sentlist"
      ],
      "execution_count": null,
      "outputs": []
    },
    {
      "cell_type": "code",
      "metadata": {
        "id": "OSO1OAmjvY1-",
        "colab": {
          "base_uri": "https://localhost:8080/",
          "height": 85
        },
        "outputId": "d5f75af0-1fbf-4032-9214-ad63ffbb5431"
      },
      "source": [
        "transp,transp_s = clusterfrick(tokens, token_embs, 'прозрачный', 4)\n",
        "world, world_s = clusterfrick(tokens_1, token_embs_1, 'мир', 7)\n",
        "fate, fate_s = clusterfrick(tokens_2, token_embs_2, 'судьба', 4)\n",
        "forest, forest_s = clusterfrick(tokens_3, token_embs_3, 'лес', 4)"
      ],
      "execution_count": null,
      "outputs": [
        {
          "output_type": "stream",
          "text": [
            "279\n",
            "487\n",
            "367\n",
            "552\n"
          ],
          "name": "stdout"
        }
      ]
    },
    {
      "cell_type": "code",
      "metadata": {
        "id": "XTy2oEe81WIT"
      },
      "source": [
        "def tablemaker(xx, xx_s):\n",
        "  for stnc_index, stnc in enumerate(xx_s): \n",
        "    stnc = ' '.join(stnc)\n",
        "    line = stnc + '\\t' + str(xx[stnc_index]) \n",
        "    print(line)"
      ],
      "execution_count": null,
      "outputs": []
    },
    {
      "cell_type": "code",
      "metadata": {
        "id": "rYS6gmz235tS",
        "colab": {
          "base_uri": "https://localhost:8080/",
          "height": 1000
        },
        "outputId": "6d89a87d-a779-495e-dd1c-dac6cdc2b8ac"
      },
      "source": [
        "tablemaker(world, world_s)"
      ],
      "execution_count": null,
      "outputs": [
        {
          "output_type": "stream",
          "text": [
            "﻿С ностальгией вспоминаю только универ , это особый мир , по которому потом скучаешь .\t3\n",
            "Но , опять же , мир изменился …\t5\n",
            "Была в США , в Washington DC и штате Вермонт , как делегат программы « Открытый мир » по теме « Образование » .\t6\n",
            "Из той же оперы , когда российский профессор в интернете на весь мир заявляет , что он работает в Германии в университете , при детальном же рассмотрении оказывается , что он работает там на так называемом 1 , - Евро джоб ( т . е . за 1 , - Евро / Час ) .\t4\n",
            "В дыре , в заводской общаге , и мир их был ограничен этим .\t5\n",
            "Кстати , стремящимся и мир стал помогать ( японец закодировал пьяницу - отца от алкоголя , помог им культурно развиться , пригласив в Японию , гаишник обеспечил сопровождение дедуле в его экстрим - поездке , когда тот прицепился альпинистским снаряжением к самосвалу ) .\t5\n",
            "Пойми , Петя , мир состоит из умных и глупых , из сильных и слабых , из тех , кто может свою судьбу перевернуть и из тех , кто плывет по течению .\t5\n",
            "Друзьям не отказывают , и это правильно , и поэтому крутится мир .\t5\n",
            "Это фильм о взрослении , о прорыве в большой мир со школьной скамьи личности , начиненной ненавистью к власти финансистов , помноженной на страх бедности .\t3\n",
            "Так мир вернул мне часть свободы .\t5\n",
            "Все знают , что сорить ? плохо , но с завидным постоянством продолжают забивать мир отходами с длительным периодом полураспада .\t5\n",
            "Про тех , кто « мир весь обойдет , чтобы найти кого - то » .\t5\n",
            "Этот фильм — отдельный , особый мир .\t5\n",
            "Тихонов не просто ходит , молчит , смотрит на небо , он показывает внутренний мир своего героя , в каждом движении чувствуется интеллигентность , ум и чувство собственного достоинства .\t3\n",
            "Кино — это особый мир , где выдумки и невероятные фантазии приветствуются .\t3\n",
            "Семнадцать мгновений … » — это целый мир , существующий по ту сторону экрана .\t3\n",
            "Надо сразу : спасти мир .\t5\n",
            "Про « Войну и мир » Толстого есть фраза , что девочки читают про мир и пропускают про войну , а мальчики наоборот .\t6\n",
            "Про « Войну и мир » Толстого есть фраза , что девочки читают про мир и пропускают про войну , а мальчики наоборот .\t1\n",
            "Мне этот мир очень напоминает мир каких - то детских снов , в которых голубое небо , зеленая трава и всё хорошо ) ностальгия )\t0\n",
            "Мне этот мир очень напоминает мир каких - то детских снов , в которых голубое небо , зеленая трава и всё хорошо ) ностальгия )\t0\n",
            "Хе - хе ) скоро эта игра захватит мир )\t0\n",
            "Краткие содержания спасут мир )\t5\n",
            "Уравнительная цивилизация , покрывающая мир надёжной , выгодной и удобной сетью единообразного сервиса , даёт слабину на рынках романских народов .\t1\n",
            "Наконец , целый новый мир микроРНК , или малых временных РНК ( small temporal RNA ) , остававшийся не замеченным учёными в течение многих лет , предстал перед нами в качестве широко распространённого и « обычного » регулятора генной активности в процессах развития и клеточной дифференцировки у высших организмов\t0\n",
            "Вы , вместе с воинами Красной Армии , до конца исполнили свой долг , разгромили агрессора , вернули народам Европы мир и свободу .\t1\n",
            "А всё - таки не проходит и года , чтобы кактусовый мир не потрясла новая находка , порой сенсационная .\t3\n",
            "Кто болел , кто облучился , кто погиб в катастрофе ? мир вашим душам , наши дети !\t0\n",
            "Однако эта модель , по мнению докладчика , претерпела значительные изменения , особенно - за последние полвека , поскольку после распада СССР мир стал однополярным .\t1\n",
            "В частности , мы вновь констатировали , что справедливый и прочный мир на Ближнем Востоке , реализация национальных чаяний палестинского народа возможны лишь при урегулировании арабо - израильского конфликта в соответствии с резолюциями 242 , 338 , 1397 и 1515 Совета Безопасности ООН и Мадридскими принципами .\t1\n",
            "В настоящее время мы обсуждаем с Генеральным секретариатом Организации вопросы , связанные с проведением в Москве под патронатом ОИК конференции « Ислам , мир , развитие и борьба с терроризмом » .\t1\n",
            "В философском смысле можно ссылаться на онтологию как на определённую систему категорий , являющихся следствием определённого взгляда на мир » .\t3\n",
            "Неформально онтология представляет собой некоторое описание взгляда на мир применительно к конкретной области интересов .\t3\n",
            "Это эксцентричный , интеллектуальный мир , но он забрасывает крючок тебе в душу .\t3\n",
            "Модель множества формализованных задач ТАУ ( « мир » задач ) представляется в виде\t0\n",
            "Возможно , когда ребята освоят этот новый для себя вид резьбы и начнут вырезать фигуры знаменитых людей , музей деревянных фигур в Спас - Клепиках прославится на весь мир , как музей восковых фигур мадам Тюссо в Лондоне .\t4\n",
            "В качестве основных составляющих выделены минерально - сырьевые , водные , земельные , лесные ресурсы и прочие ресурсы , к которым относятся рыбные ресурсы , животный мир , запасы дикорастущих плодов и ягод , рекреационные ресурсы .\t3\n",
            "Животный мир .\t5\n",
            "Животный мир Республики Бурятия богат и уникален .\t3\n",
            "Животный мир Республики Бурятия богат и уникален .\t3\n",
            "Тоже « Войну и мир » перечитывала ? вернее , прочитала заново , подумала , что за бред я писала в сочинении .\t6\n",
            "А сейчас думаю , что это книга о том , как война взорвала привычный мир , о несправедливости , и князь Андрей ? ровесник ? уже не кажется таким благородным героем .\t3\n",
            "\" чем дальше читаю , тем больше ваш сын напоминает моего : - ) покупаем много справочной литературы : о странах и городах мира , о футболе , очень хорошо идут книги типа « 300 фактов , которые вы не знали » \" \" 100 воин , которые изменили мир » \" \" Что это и почему так устроено » . \"\t1\n",
            "\" Только в другой системе координат : под \" \" взглядом \" \" людей , которые , в силу своей болезни , видят мир иначе . \"\t0\n",
            "Юной практикантке , этому агрессору в юбке , удаётся внести смятение в маленький и вполне устоявшийся мир обитателей интерната , удаётся расстроить взаимоотношения друзей , начальников и подчинённых , слепых и зрячих .\t3\n",
            "Умирающая мать ( Ширли Хендерсон ) боится , что сын будет плохим опекуном и до последнего мгновения хочет забрать с собой Роберту в мир иной .\t2\n",
            "Показатели межрегиональной мобильности заметно ниже : у мужчин и женщин в возрасте 20 - 24 лет они достигли соответственно 14 , 47 и 14 , 33 % . Более высокие показатели миграционной активности молодёжи традиционно объясняются поиском места в жизни , необходимостью получения образования и приобретения определённых профессиональных навыков , желанием увидеть мир , создать семью и т . д .\t1\n",
            "Научная серия : Международная миграция : Россия и современный мир .\t4\n",
            "\" 64 с . ? ( Я вхожу в мир искусств ; N 4 ) \"\t2\n",
            "\" Я вхожу в мир искусств ; N 6 ) \"\t2\n",
            "\" Шкаф здесь , как в булгаковском романе , ? дверь в небытие , откуда приходят в мир , чтобы ожить на коротком балу спектакля персонажи \" \" Вишнёвого сада \" \" . \"\t2\n",
            "А мир местечка , из которого бежит в своих мечтах героиня , театрален и поэтичен .\t3\n",
            "Старческая тривиальная мудрость наполняет её рассуждение о том , что весь мир ? местечко Фрамполь , и незачем бывать повсюду , чтобы понять его законы .\t4\n",
            "Для ребёнка сказка ? волшебный мир , где всё допустимо .\t3\n",
            "\" Павловский даже сформулировал лозунг : \" \" Путин ? это прежде всего мир \" \" ? и добавил загадочно , что \" \" мир \" \" в обоих смыслах слова . ) \"\t0\n",
            "\" Павловский даже сформулировал лозунг : \" \" Путин ? это прежде всего мир \" \" ? и добавил загадочно , что \" \" мир \" \" в обоих смыслах слова . ) \"\t0\n",
            "Пока вы читаете эти фразы , ваш труд повторяет множество ваших двойников , склонившихся над той же страницей , распахнутой в других , запредельных мирах , о которых знать ничего не знают астрономы и которые обрисовывают в своих моделях учёные - космологи , смыкающие науку с мистикой , а наш мир ? с дуновением иного бытия .\t3\n",
            "Именно тогда мир оказался расколот на Макрокосм и Микрокосм .\t5\n",
            "\" Представьте себе , что толстовская \" \" Война и мир \" \" ? это один \" \" гипермир \" \" , а каждое из слов , мелькнувших на страницах романа , ? одна вселенная , подобная нашей . \"\t6\n",
            "\" А , может быть , весь наш мир ? это одна \" \" голографическая пластинка \" \" ? \"\t0\n",
            "\" Для этого надо ещё раз вдуматься в сравнение , приведённое Хоукингом : \" \" Наш мир ? это голограмма \" \" . \"\t0\n",
            "У Путина в Чечне мир , Кремль дружит с чеченской администрацией , отводит войска , передаёт местным властям власть , налоги , бюджет и оружие .\t1\n",
            "И этот мир будет устанавливаться ещё прочнее после выборов , когда у власти останутся лучшие друзья : Путин с олигархами в Кремле , Кадыров со своими приятелями с гор ? в заново отстроенном новом здании администрации в Грозном .\t5\n",
            "Вы уже в таком возрасте , когда надо на мир посмотреть и себя показать .\t5\n",
            "Ты должен посмотреть мир , увидеть других слонов с хоботами .\t5\n",
            "Им смотрит на мир моллюск наутилус , родич давно вымерших аммонитов .\t5\n",
            "Поэтому мир для наутилуса выглядит мрачно .\t5\n",
            "\" Другой ? \" \" глаз пессимиста \" \" ? видел всё в чёрных тонах ; мир казался грубым , изломанным , резко очерченным . \"\t0\n",
            "\" Для обладателя такого органа зрения ? а именно он и называется \" \" глазом \" \" - окружающий мир становится ярким и отчётливым . \"\t3\n",
            "\" Подобная модель наглядно доказывает , что как только первые примитивные организмы открыли саму возможность \" \" запечатлевать \" \" мир ? моментально копировать одним из своих органов расположение окружающих предметов и их форму , ? тут же этот орган начал совершенствоваться , пока не достиг высшей формы развития . \"\t3\n",
            "Социальный мир можно рассматривать как множество теорий , произведённых и усвоенных взаимодействующими людьми\t0\n",
            "\" Так создаётся особого рода силовое поле теории : попавшие в него люди видят мир , себя , свои интересы через призму теории и действуют \" \" по прописям \" \" теории , в том числе втягивают в поле теории других людей . \"\t3\n",
            "Те , кто попал в силовое поле теории , видят мир в терминах и обозначениях теории , приписывая предлагаемые ею названия ( номинации ) , смыслы и значения всему , что они воспринимают , и не воспринимают того , что теория не наделяет номинациями\t0\n",
            "Пусть их не знает научный мир , зато их знает правительство .\t5\n",
            "\" За \" \" мирный период \" \" 1996 ? 1999 годов население в целом осознало , как славно \" \" пошутили \" \" над ним \" \" гуманисты \" \" \" \" правозащитники \" \" и т . п . , устроившие в 1994 ? 1996 годах \" \" борьбу за мир \" \" . \"\t1\n",
            "\" Вероятно , наиболее последовательно поддерживает преемственность \" \" Новый мир \" \" : на страницах журнала всегда можно найти рассказы и повести , связанные с традицией консервативного \" \" почвенничества \" \" . \"\t6\n",
            "\" Впрочем , именно \" \" Новый мир \" \" пытается преодолеть разрыв между традицией и современностью , публикуя театральные , кино - , CD - и интернет - обзоры , в которых кратко и емко рецензируются самые последние культурные события . \"\t6\n",
            "\" В рубриках \" \" Эхо \" \" \" \" Нация и мир \" \" освещаются вопросы геополитики , межэтнических отношений , культурного пространства . \"\t6\n",
            "Например , только в 2002 году в нашу парторганизацию пришли 33 молодых образованных , квалифицированных кадров , а в мир иной ушли 4 коммуниста .\t2\n",
            "Небольшая группа исследователей ( И . Вернер , К . Годловский , М . Б . Щукин и др . ) полагает , что римская цивилизация не затронула славянский мир , и в этой связи отрицает проживание славян в ареале провинциальноримских культур пшеворской и черняховской .\t3\n",
            "Вы все прекрасно знаете , что славянский мир переживает ныне очень тяжёлую эпоху ? я назвал бы её славянской энтропией , то есть « разбеганием » славян .\t3\n",
            "\" Наш мир создан каким - то Достоевским , только не столь гениальным , как Фёдор Михайлович \" \" , ? сказал он Одоевцевой . \"\t0\n",
            "\" Худой мир лучше доброй ссоры , а Георгий Иванов называл их нынешние отношения \" \" худым миром \" \" . \"\t0\n",
            "Тем более , что всё это означало сближение с Адамовичем , худой мир после столь долгой ссоры из - за того , что Адамович вольно или невольно опорочил Георгия Иванова .\t5\n",
            "\" И , если когда - нибудь возможен для русских людей \" \" гражданский мир \" \" , взаимное \" \" пожатие руки \" \" , нравится это кому или не нравится ? пойдёт это , мне кажется , по цветаевской линии \" \" . \"\t1\n",
            "Едва ли кто - либо из читателей сомневается в том , что окружающий его мир трехмерный .\t3\n",
            "Там мир может быть совсем не похожим на наш …\t5\n",
            "\" Это похоже на то , как если бы лист бумаги ( двумерный мир ) мы согнули бы трубку , тогда по одному измерению , вдоль трубки \" \" бумажный мир \" \" мог бы быть неограниченно большим ( длинным ) , а по другому ? свёрнутым в микроскопически малое колечко . \"\t3\n",
            "\" Это похоже на то , как если бы лист бумаги ( двумерный мир ) мы согнули бы трубку , тогда по одному измерению , вдоль трубки \" \" бумажный мир \" \" мог бы быть неограниченно большим ( длинным ) , а по другому ? свёрнутым в микроскопически малое колечко . \"\t3\n",
            "М . : Весь мир , 2003 .\t4\n",
            "Вплоть до Кеплера сфера Луны делила космос на две метафизически разнородные части : мир горний и мир дольный , земную юдоль и жизнь вечную .\t2\n",
            "Вплоть до Кеплера сфера Луны делила космос на две метафизически разнородные части : мир горний и мир дольный , земную юдоль и жизнь вечную .\t2\n",
            "Они во всем различны , а во многом противоположны : и по материи , по форме , и по видам движений ? невидимая граница , обозначенная Луной , разделяла мир несовершенных ( прямолинейных , преходящих , насильственных ) движений от совершенных ( круговых , вечных , естественных ) .\t2\n",
            "\" Раньше любое движение нисходило в мир извне , от вращения \" \" примо мобиле \" \" . \"\t2\n",
            "\" Другой ? почти безнадёжно запутанный мир вычислений , никак не сходящийся к \" \" фигурам , светящимся в душе \" \" . \"\t0\n",
            "\" Выступая от лица гуманитариев против засилья математизированного \" \" здравого смысла \" \" , Владимир Набоков в своё время констатировал , что умозрительная сеть , наброшенная на мир физикой , срослась с ним ? из внешней стала внутренней . \"\t3\n",
            "Две бледнолицые бельгийки , Ким Клийстерс и Жюстин Энин - Арденн вот лучшее , что смог выставить остальной теннисный мир против сестёр Уильямс .\t4\n",
            "Человек , прошедший через войну , хранит мир .\t1\n",
            "Увы , в нашем Отечестве зачастую таланту воздают должное лишь тогда , когда его обладатель уходит от нас в мир иной .\t2\n",
            "\" Ещё в предыдущем своём романе \" \" Нам целый мир чужбина \" \" Александр Мелихов впервые заговорил о так называемой \" \" М - культуре \" \" . \"\t0\n",
            "\" Впрочем , дотошный рассказчик - наблюдатель в самых разнообразных реакциях на \" \" минуты роковые \" \" стремится усмотреть и сформулировать общее : живущие в эпоху перемен люди бегут прочь от реальности , подменяют действительный мир желаемым . \"\t3\n",
            "Только преображённый , чем - то дополненный , а чего - то лишённый фантазией мир хоть отчасти становится для героев романа приемлемым и даже порой привлекательным .\t3\n",
            "\" Или старая как мир головоломка : \" \" Почему в Париже Сена не горит ? \"\t0\n",
            "Весь мир был охвачен горбиманией , и я оказался даже не первым советским журналистом , с которым Визенталь согласился переговорить .\t4\n",
            "Учитель биологии . Так как хрусталик , роговица и стекловидное тело ? это собирающая линза , то оптическая система глаза даёт перевёрнутое уменьшённое изображение , и мир мы должны видеть перевёрнутым .\t5\n",
            "\" Из - за острова на стрежень \" \" ? мир казачьей и разбойничьей вольницы ; \" \" Мой костёр в тумане светит … \" \" ? русская \" \" цыганщина \" \" ; \" \" Степь да степь кругом … \" \" ? дорога , смерть , одиночество и т . д . , и т . п . \"\t0\n",
            "Таким образом , перебирая в застольном исполнении эти песни - формулы , мы создаём цепочку символов , за каждым из которых ? целый песенный мир , т . е . пласт русского этнического менталитета .\t3\n",
            "\" К середине 1970 - х Пиночет до основания разрушил \" \" старый мир \" \" и приступил к строительству нового , призвав к руководству экономикой так называемых \" \" чикагских мальчиков \" \" - около 30 чилийцев - учеников Мильтона Фридмэна , убеждённого сторонника идей свободного рынка , который получил Нобелевскую премию за разработку своей монетаристской экономической теории . \"\t3\n",
            "Просто необходимо спокойно и внимательно прочесть такую пьесу , попытаться войти в её мир , почувствовать её глубину .\t3\n",
            "В нашей профессии важно за словами драматурга увидеть некую другую реальность , другой мир .\t3\n",
            "Почувствовать его , полюбить , а потом через пространство , ритмы , артистов попытаться этот невидимый мир сделать видимым , воплотить его , чтобы пьеса ожила , задышала .\t3\n",
            "Она старательно выстраивает свой иллюзорный мир , оберегает и сохраняет его .\t3\n",
            "И вдруг появляется человек , которого Мавра когда - то любила , она вспоминает свою первую любовь , и её иллюзорный мир рушится .\t3\n",
            "Она безнадёжно устарела ? весь мир уже давно ездит на переднеприводных машинах .\t4\n",
            "Именно он ввёл меня в мир музыки , благодаря ему я пошла совершенно другим путём в своей жизни .\t2\n",
            "Я влюбилась сразу и в Фонаря , и в мир музыки .\t2\n",
            "На самом деле никто не в силах изменить мир , сделать хороших людей плохими и наоборот .\t5\n",
            "Так и Греческий мир не вместился в Римскую державу : он переживёт Империю на много веков в форме Научного Интернационала европейцев .\t5\n",
            "Но очень много неясностей ? неясно , как они соотносятся между собой , как они соотносятся с другими тремя макросемьями , и т . д . И кроме этого есть весь остальной мир ? осталась Америка , в которой , по теории Гринберга , есть одна семья ? америндская , но , на самом деле , этого никто не знает точно .\t4\n",
            "Образы и значения этих слов надо искать не там , где возвеличился и пал Рим , не там , откуда финикийцы отправляли во все концы свои корабли , не там , где , раздираемый противоречиями , прощался со всем византийский мир , а с того места , куда 12 октября 1492 года , открыв Новый Свет , причалили испанские корабли .\t1\n",
            "М . : Весь мир , 2003\t6\n",
            "Французская кухня и ресторанный бизнес ? мир крайне сложный и полный противоречий .\t5\n",
            "А оставить братков без защиты Боже упаси ? того и гляди , мир перевернётся .\t1\n",
            "Наверное , наш огромный мир не менее неисчерпаем , чем геном , чем электрон , чем атом …\t0\n",
            "Легко разрушить мир , но трудно его восстановить .\t5\n",
            "Вот только мир , видимый им , выглядит странно плоским .\t5\n",
            "Пёстрый мир\t5\n",
            "Этот мир придёт , если в душе каждого человека будет царить Закон Создателя Его .\t3\n",
            "\" Только с начала нового года на территории Марийского Заволжья обнаружена целая дюжина трупов тех , кто отошёл в мир иной по \" \" пьяной \" \" причине . \"\t2\n",
            "Традиционные линнеисты опасаются того , что новая система внесёт в мир растений ещё больший беспорядок .\t3\n",
            "К ним , например , относятся информатизация , Интернет , рыночная система хозяйствования , организация и управление транснациональными компаниями и т . д . Считать эти формы угрозами и вызовами ? значит объявить весь внешний по отношению к России мир угрозой .\t5\n",
            "\" В блистательный и неповторимый город , отметивший своё 300 - летие и поразивший весь мир своими \" \" Белыми ночами \" \" , своей историей и красотой . \"\t4\n",
            "Мы , наконец , приступаем к решению задачи , которую весь цивилизованный мир уже решил .\t4\n",
            "\" Именно она направляет любознательность малыша на постижение окружающей действительности , порождает желание реально , а не \" \" понарошку \" \" включиться в сложный мир взрослых . \"\t3\n",
            "Первостепенное значение в физическом воспитании детей имеют всевозможные игры и состязания , ведь мир ребёнка ? это прежде всего мир игры .\t3\n",
            "Первостепенное значение в физическом воспитании детей имеют всевозможные игры и состязания , ведь мир ребёнка ? это прежде всего мир игры .\t3\n",
            "Кто же ещё так зорко видит мир , и не только своими глазами , но и глазами своих персонажей ?\t0\n",
            "\" А вот США , экономика которых , наоборот , даже поднялась на военных дрожжах , чувствовали себя более комфортно и стали по сути дела единственным рынком сбыта для Jaguar , Triumph или MG , из вычурных салонов которых посмотревшие мир вчерашние вояки зычно горланили : \" \" Поцелуй меня , детка , я победил Японию ! \" \" \"\t4\n",
            "Потому что в начале 80 - х западный мир столкнулся с польской проблемой .\t5\n",
            "\" Новый мир \" \" , 2001 , №№ 9 ? 10 . \"\t6\n",
            "Из образа шприца , увиденного мельком на лестничной площадке , выводится понятие наркомании , которое вырастает в обобщение : люди не хотят видеть неприглядной реальности фактов и перевирают мир себе в удовольствие ? самоуслаждаются .\t3\n",
            "Этот амбивалентный мир не способен на реальные достижения , он покачивается туда - сюда , чем соблазняет одних на бездействие и гармоническое слияние с ним , других ? на импульсивные непоследовательные движения .\t3\n",
            "Они сгружают программу - клиент , устанавливают её на своём компьютере и соединяются с сайтом игры , после чего браузер становится окном в придуманный разработчиками мир , живущий на удалённом сервере .\t3\n",
            "Таким образом , взрослые люди стали марионетками Карабаса Лукаса , который впоследствии утащил в свою фантазию весь мир : и актёров , и поклонников .\t4\n",
            "Школа резко сужает мир детской игры .\t5\n",
            "Посмотрите , что творят шестилетние дети на переменах : они за пять минут успевают выстроить целый игровой мир .\t3\n",
            "На Западе лишь очень немногие знаменитые на весь мир университеты имеют возможность отбирать абитуриентов по их академическим достижениям .\t4\n",
            "\" Однако \" \" основной вопрос философии \" \" получает своеобразное преломление во взглядах Витгенштейна на математику : сознание делается здесь частью бытия , а мир идеальный ? частью мира материального . \"\t0\n",
            "Есть мир , состоящий из фактов , и есть язык , отражающий этот мир .\t3\n",
            "Есть мир , состоящий из фактов , и есть язык , отражающий этот мир .\t3\n",
            "В значительном числе случаев их появление связано с тем , что Витгенштейн мысленно создаёт некую малореальную или же совсем нереальную , однако же логически допустимую ситуацию и тем самым ? с целью пояснения хода своих мыслей ? как бы переносит себя и читателя в воображаемый , параллельный мир .\t3\n",
            "Атлантида : затерянный мир .\t0\n",
            "\" То - то одна из черт поведения Печорина , давно замеченная : он подслушивает , подглядывает , рассчитывает , не довольствуясь обыкновенным течением событий ; он вмешивается в них , переделывая данность и создавая другой мир , поскольку ещё до того , как осознаёт , чувствует : в этом ему нечего делать . \"\t3\n",
            "Иными словами , человек брошен в абсолютно обезнадеженный мир ? таково открытие экзистенциальной философии , толкующей о том , как существовать в такой среде .\t3\n",
            "Адриана , жившего в 76 - 138 годах н . э . , называют одним из самых мудрых правителей Древнего Рима , сумевшим обеспечить империи относительный мир и благополучие .\t1\n",
            "Спорт ? это мир\t5\n",
            "Ныне Хаген ? удивительный пример человека , не меняющегося с возрастом : она по - прежнему эпатирует интервьюеров своим поведением и не перестаёт нести на весь мир ту чушь , которая слетала с её уст лет десять - пятнадцать назад , а музыка при этом не становится менее талантливой и дикой .\t4\n",
            "\" Своими \" \" ирокезами \" \" , татуировками и прочими попытками искусственно привнесённым уродством усилить эффект от естественного , данного от природы , они доказывали своим дерьмовым предкам , что этот дерьмовый мир плавает по уши в дерьме и что туда ему и дорога . \"\t3\n",
            "Да и идея того , что весь мир ? дерьмо , не выглядела здесь столь революционной .\t5\n",
            "\" Войска Хиддинка удивили мир и создали новую историю \" \" . \"\t0\n",
            "\" Весь мир , кажется , жаждал её низвержения , кроме ничтожных ( по меркам 18 - тысячной арены ) 5 тысяч американских болельщиков , почти не слышимых в \" \" Conseco Fieldhouse \" \" : руки и рты у них заняты сэндвичами и поп - корном . \"\t4\n",
            "Острота пережитого постепенно притупляется , жизнь возвращается в прежнее русло , глаза и уши начинают воспринимать окружающий мир .\t3\n",
            "После похорон весь мир в глазах ребёнка может окраситься в мрачные тона , и будет казаться , что жизнь никогда не вернётся в прежний ритм .\t3\n",
            "Но весь мир давно знает , что важнее и престижнее Каннского кинофестиваля ничего нет в мире кино .\t4\n",
            "Пусть снимут трупы , пусть весь мир узнает , как нас здесь убивают !\t4\n",
            "\" Её взгляд на мир , уже порченный положительным знанием , не признающим Бога , предъявляет жёсткий счёт эпохе Гоголя , эпохе очарований , с которой не желает считаться неумолимый \" \" логарифм \" \" . \"\t3\n",
            "Но времена , когда мы открывали строительный западный мир , давно минули : ведь это только для нас новинками были пластиковые трубы , герметики , структурные штукатурки и окна « Велюкс » , а для всего цивилизованного мира это было привычной повседневностью .\t5\n",
            "Возможно , за океаном возлагают надежды на культур - империализм ? если « Кока - Кола » , « Звёздные войны » и Микки - Маус заполоняют собой весь мир , то потребители такого счастья сами собой проникаются чувством лояльности к великой стране , им это счастье подарившей .\t4\n",
            "\" Знаете , мы в театре играем \" \" Войну и мир \" \" . \"\t6\n",
            "\" Новый мир \" \" предлагает повесть Аркадия Бабченко \" \" Алхан - Юрт \" \" . В основе пережитое самим автором . \"\t6\n",
            "\" Констатируя в предисловии , что Пик считается одним из китов , на которых стоит мир \" \" фэнтези \" \" ( двое других ? Толкиен и Т . Х . Уайт ) , переводчик С . Ильин подчеркивает , что он гораздо ближе к Свифту , Диккенсу , Гоголю , Гофману и Кафке . \"\t3\n",
            "Ведь роспись ? это образ Царствия Божия , идеальный гармоничный мир .\t3\n",
            "О многих из них написаны замечательные книги , но , как в капле воды отражается мир , так в маленьких бытовых деталях выявляется порой характер человека .\t3\n",
            "Когда его не стало , я вдруг поразилась ? насколько мир человека в его отсутствии говорит о нём .\t3\n",
            "Смотрим на мир , так нелепо наряженный ,\t0\n",
            "Это , видимо , их свойство ? мгновенный , реактивный ответ на события , будь то мир или отдельная семья .\t3\n",
            "Мне показалось , что мир , в котором мы живём , раскололся .\t3\n",
            "Заработанных за десять секунд , которые потрясли легкоатлетический мир .\t4\n",
            "Казалось , что она открыла новую дверь и вошла в новый мир .\t5\n",
            "Человек познаёт мир через себя .\t5\n",
            "Так они познают мир .\t5\n",
            "\" Истцов трое : \" \" Ассоциация узников Освенцима и лагерей Верхней Силезии \" \" \" \" Израилитская консистория Франции \" \" и \" \" Движение против расизма и за мир между народами \" \" . \"\t1\n",
            "И конечно же , весь мир надеялся на трудолюбивый Китай .\t4\n",
            "Надо быть очень книжным ? или очень молодым ? человеком , чтобы чувствовать мир иначе .\t5\n",
            "Вообще , французы не очень любят путешествовать , весь мир для них сосредоточен во Франции .\t4\n",
            "Как и все прочие высказывания , залакированные многими языками , фраза о том , что красота спасёт мир , кажется ужасной банальностью .\t1\n",
            "История Лондона . ( М . : Весь мир .\t4\n",
            "\" Серия \" \" Весь мир знаний \" \" . \"\t4\n",
            "История Лондона . ( М . : Весь мир .\t4\n",
            "\" Серия \" \" Весь мир знаний \" \" . \"\t4\n",
            "Когда небо ещё колют сотни маленьких иголочек от шампанского , а щёки ? тоже , но уже от мороза , когда мир ещё по инерции торжествен , но уже не суетлив и потому похож на оперный театр .\t5\n",
            "И он должен жить по тем же законам , которыми живёт весь деловой мир .\t3\n",
            "В первую очередь , должно произойти цивилизованное деление сфер влияния ? на сегодняшний день криминальный мир по - прежнему имеет слишком большой вес .\t3\n",
            "Каждая его вилла индивидуальна и отражает не только авторскую концепцию , но и глубоко личностный мир его заказчиков .\t3\n",
            "Но так многое противится сегодня подобному взгляду на мир .\t5\n",
            "Поклонникам археологии самое время в Бонн : такой полной выставки о Трое , её истории и сокровищах мир ещё не видел .\t4\n",
            "\" В нашем университете , помимо факультетов и кафедр , научно - исследовательских лабораторий , функционируют отдел международных связей , гуманитарный лицей , украинская воскресная школа , издательско - полиграфический центр , студенческий театр , клуб \" \" Посольский час \" \" , издаётся научно - методический журнал \" \" Русский язык и литература в Азербайджане \" \" , выходит газета \" \" Студенческий мир \" \" . \"\t6\n",
            "\" Жюри , в состав которого входили крупнейшие писатели современности , представители 50 национальностей , предлагалось оценить \" \" Илиаду \" \" и \" \" Одиссею \" \" Гомера , несколько пьес Шекспира \" \" Войну и мир \" \" и \" \" Анну Каренину \" \" Льва Толстого , несколько романов Достоевского , Габриэля Гарсия Маркеса , книги Фолкнера , Кафки и других писателей . \"\t6\n",
            "Ведь именно так на протяжении нескольких веков греческий мир называл Великую Русь .\t4\n",
            "\" Огромную подпольную студию , транслирующую на весь мир через Интернет \" \" живое \" \" порно , обнаружили вчера стражи порядка в подмосковном Королеве . \"\t4\n",
            "Можно с не меньшим историческим правом утверждать , что « столетие по - русски » замыкают две глобальные провокации , которые были направлены против России , против Империи : провокация Александра Парвуса - Гельфанда в соавторстве с германским правительством , подстегнувшая революцию в России , крах самодержавия и её « несчастный » сепаратный мир с Германией ( см . мою статью « Двойные агенты Бога и Дьявола ? II .\t1\n",
            "Революционер должен проникать всюду , во все высшие и средние классы , в купеческую лавку , в церковь , в барский дом , в мир бюрократический , военный , в литературу , в III отделение ( тайную полицию .\t2\n",
            "Именно потому , что современный мир в результате глобализации вновь оказался на пороге « восстания аутсайдеров и маргиналов » , фигура и идеи Сергея Нечаева , ? разумеется , при деятельном участии Достоевского , ? опять приобрели неожиданную актуальность .\t4\n",
            "Он учится познавать мир , в том числе и читать , тактильно , пальцами .\t3\n",
            "Сейчас мир перенасыщен музыкой .\t5\n",
            "\" Съесть нужно лакомство и сказать волшебные слова : \" \" Мир лесу этому , мир царству этому ! \"\t0\n",
            "Природа Сахарнова - подводный мир и далёкие страны .\t3\n",
            "Результат После любой из этих масок ( плюс массаж ) ощущение такое , словно смотришь на мир новыми глазами .\t3\n",
            "\" Война и мир \" \" \" \" Семейное счастье \" \" . \"\t6\n",
            "Умение распределять себя в разрежённом « романном » пространстве « Лебединого » ? поклон Владимиру Бурмейстеру , поставившему своё « Озеро » для парижского театра ( на волне моды на советские хореодрамы ) , и Наталье Макаровой , навязавшей западным коллегам жесточайшую конкуренцию и заставившей балетный мир заговорить по - русски .\t4\n",
            "Барайнски не « спелась » с камерным Шуманом , произведя тот же эффект , что произвёл бы какой - нибудь скрипач , сыграв Вивальди на скрипке - самоделке , ? ей ли с её несовершенным « инструментом » в мир классического совершенства Моцарта , в вагнеровский космос ?\t2\n",
            "\" Завтра утром проснешься ? и пойдём в \" \" Детский мир \" \" . \"\t6\n",
            "Положим , в том , что Россия не является страной белых медведей и тундры , нам удастся убедить мир очень не скоро .\t5\n",
            "Правда , к Рождеству весь мир , даже те , кто читает Ролинг в переводах , уже получит новую , пятую историю приключений Гарри Поттера , но так это весь мир …\t4\n",
            "Правда , к Рождеству весь мир , даже те , кто читает Ролинг в переводах , уже получит новую , пятую историю приключений Гарри Поттера , но так это весь мир …\t4\n",
            "\" Так , ею были записаны две беседы с С . Я . Маршаком на эту тему , впоследствии опубликованные в качестве приложения к его очерку \" \" Дом , увенчанный глобусом \" \" ( \" \" Новый мир \" \" , 1967 , № 9 ) . \"\t6\n",
            "\" И если другие книги находили отклик только в профессиональной отраслевой прессе , то об этой отозвались журналы \" \" Вопросы литературы \" \" и \" \" Новый мир \" \" . \"\t6\n",
            "\" А прочитали ли Вы , что пишет о Лаборатории \" \" Новый мир \" \" ( статья Туркова \" \" Заметки о критике \" \" ) ? \"\t6\n",
            "\" Цивилизованный мир \" \" стал потрясением для \" \" дикаря \" \" . \"\t3\n",
            "Новозеландский режиссёр Винсент Уорд у себя дома был известен странными фильмами - галлюцинациями , и эта его манера создала удивительный мир его лучшей картины .\t3\n",
            "Фантастический мир короля Людвига По территории Баварских Альп проходит маршрут ещё одного путешествия , не менее увлекательного и также насыщенного литературно - музыкальными ассоциациями .\t3\n",
            "\" А когда наконец водворился \" \" худой мир \" \" , FIVB резко подняла призовой фонд для мужчин . \"\t0\n",
            "\" Тем , кто приехал на отдых с детьми , советуем побывать в Сочинском аквапарке \" \" Водный мир \" \" . \"\t6\n",
            "\" IRC ? старый солидный чат взрослых интернетчиков с тысячей каналов по всему миру , место без географических условностей , мир близких \" \" сто лет \" \" знакомых людей , знающих друг друга в лицо разве что по фотографиям , ? за несколько минут наполнился междометиями и кусками скопированных из новостных лент цитат . \"\t3\n",
            "Крик ? с кончиков пальцев на клавиатуру , а оттуда в мир ? теряется в потоке e - english ? особого языка чатов .\t5\n",
            "Погружённый в этот потешный и грозный мир , Холмогоров чувствовал себя временами призраком .\t3\n",
            "А там , куда он удивлённо глядел из своей аквариумной толщи , как в чужой неведомый мир , разворачивались живые цепи , ползли мокрицами многотонные бронетранспортёры : копошение воинственных человечков походило на муравейник , роняя строй и смешно теряя сугубую серьёзность муштры , что спадала с марширующих , как штаны .\t3\n",
            "Стало не по себе , тоскующим ненасытным облачком в офицерской палате стал блуждать сладковатый душок мясной солянки : Алёша мигом опомнился и оставил в покое умирающего ? того , кто готовился , как ему это почудилось , принять смерть и поэтому был зол на весь мир .\t5\n",
            "А после , как из матушкиной утробы в мир нам уготованный вышкуриваемся , всё норовим обратно в норушку съюркнуть .\t2\n",
            "потревожив здешний блёклый мир , пущенная охраной без мало - мальской проверки .\t3\n",
            "Удивительно , что к юбилею Юрия Никулина худруку и директору не пришло в голову сделать программу о живом цирке , о молодых и ярких артистах , о старых клоунах ? таких , как Векшин и Васильев , которые чуть - чуть моложе Юрия Никулина и ещё выходят каждый вечер на манеж Санкт - Петербургского цирка со старыми , как мир , и такими смешными репризами .\t5\n",
            "Именно здесь следует воздать должное метафизике ? одному из немногих занятий , толкающих человека к вечному ? и понять её главное преимущество по сравнению со всеми гуманитарными науками , занимающимися бесконечным и бессмысленным накоплением и хранением фактов ? способность видеть сущности , основания и смыслы , благодаря чему мир полностью преображается и становится иным .\t3\n",
            "Философ так или иначе всегда конформист в самом истинном и глубоком значении этого слова , подстраивающий не столько своё сознание под мир , сколько мир под себя .\t3\n",
            "Философ так или иначе всегда конформист в самом истинном и глубоком значении этого слова , подстраивающий не столько своё сознание под мир , сколько мир под себя .\t3\n",
            "Самосознание способно не только преображать мир , но и разрушать своего носителя .\t3\n",
            "Мы можем сделать мир безопаснее , это открытый человек , который любит свою семью , свою родину » , ? говорил Буш .\t1\n",
            "Так или иначе , существует вероятность , что человечество в обозримом будущем исправит одну из фатальных ошибок , совершённых на заре времён , когда , увлёкшись игрой в слова ? неоднозначные и неточные , обманчиво лёгкие в эксплуатации , ? оно разучилось видеть мир таким , каков он есть на самом деле , и , извините за выражение , оглохло .\t3\n",
            "\" Ведь , кроме костылей , ядов , бомб , лапши на уши , у нас есть электрическая гитара и несколько милых вещиц ? заводные попугайчики , игрушечный мир Warcraft , где среди лесов и лугов эльфийские лучники отзываются нам ангельскими голосами \" \" yes , my lord \" \" , а паладины сторожат переправы и мочат наглых гоблинов - террористов . \"\t5\n",
            "Подумайте , подумайте , что это значит : Бог так возлюбил мир , что Он Своего Сына Единородного отдал на смерть для того , чтобы мы поверили в Его любовь , поверили в Его учение , последовали за Ним и стали достойными себя самих и той любви , которую Бог нам подарил .\t5\n",
            "И когда спускается из разрежённого горного воздуха в тяжёлую атмосферу асфальта , то способы , которые он применяет , чтобы сохранить свой мир , осуждать не нам .\t5\n",
            "О больших футболистах с фамилиями Липпи или Фергюсон мир ничего такого не знает .\t5\n",
            "Структура ОВОС учитывает все компоненты природной среды : воздух , поверхностные и подземные воды , почвы , растительность и животный мир , имеющуюся техногенную нагрузку на территорию , видовой и родовой состав населения , особо опасные объекты и др .\t3\n",
            "После страшных событий в США весь мир неизбежно изменится и вместе с ним ? Всемирная паутина .\t4\n",
            "Разглядывая окружающий мир через окно автобуса , я удивлялся причудливому смешению вечнозелёной и тропической растительности , которое существует здесь благодаря близости Гольфстрима .\t3\n",
            "Книжный мир »\t6\n",
            "\" Так , согласно А . Т . Ф . , описанное Фукидидом затмение произошло не в 431 г . до н . э . , а в 1039 г . нашей эры ( поскольку по астрономическим данным затмение 431 г . до н . э . в Афинах было не полным , а частичным ) ; соответственно , надо \" \" передвинуть \" \" весь древний мир на много веков ближе к нам . \"\t4\n",
            "Корень SLM ' быть целым и невредимым ' ' быть в безопасности ' ? тот же , что , например , в sal ? m ( un ) ' мир ' ' безопасность ' ' ' isl ? m ( un ) ' ислам ' ( буквально : ' покорность ' ) .\t1\n",
            "Фоменковский мир населён фальсификаторами , как босховский мир чудовищами .\t3\n",
            "Фоменковский мир населён фальсификаторами , как босховский мир чудовищами .\t3\n",
            "\" Этот мир был залит солнцем и умиротворен вечерней зарёй , наполнен лунным сиянием и блеском звёзд , тёплой водой и горячим песком , гулом пассажирских самолётов и низко летящими за озеро \" \" кукурузниками \" \" и вертолётами с красной звездой , паровозом , который они выбегали смотреть четыре раза в день , дождями , лужами , радугой , утренней росой и сырыми туманами . \"\t3\n",
            "Он знал , что умрёт не внезапно , уже начал умирать , и с каждым днём ему остаётся всё меньше жить , и почувствовал , что мир вокруг него начал неуловимо меняться .\t3\n",
            "И сразу исчезала усталость , Колюня погружался в мир неровных улиц , заборов , дачных домов , лавочек , калиток , высоких деревьев , разросшихся кустов , пахучих трав , полевых и садовых цветов , прислушиваясь к родному звуку паровоза на земле и гудению самолётов в вечернем небе , окунаясь в безмятежность и покой .\t2\n",
            "\" Мальчику нельзя было делать в школе ничего из того , что разрешалось другим детям , ? ни прогуливать уроки , ни дерзить учителям , ни отлынивать от общественной работы и сбора металлолома , его беспощадно преследовали за тройки по английскому , русскому и алгебре , он должен был собирать деньги девочкам на подарки к Восьмому марта и ехать закупать в \" \" Детский мир \" \" дурацкие игрушки в виде дешёвых кукол или резиновых ёжиков \"\t6\n",
            "Но к тому времени , когда Колюня в готическом городке оказался и было ему немногим больше лет , чем тогда дядюшке , давно не осталось в близких и дальних окрестностях древнего селения ни чужеземных солдат , ни офицеров , ни даже пугавшей весь мир державы , сохранилась только её урезанная на треть территория , и мало что напоминало о том , что когда - то здесь , далеко за неприступными границами , были размещены храбрые\t4\n",
            "Пока не выпьешь , мир вокруг такой большой , страшный … а душа маленькая , испуганная .\t3\n",
            "А как выпьешь ? мир становится маленький , а душа ? большая - большая !\t0\n",
            "Потому что если не изнасиловать меня пирожками и сосисками , то я на весь мир ославлю за скаредность и бедность .\t4\n",
            "\" Надпись на ленте должна была извещать мир о последнем подношении : \" \" Дорогому Павлу от родных и близких \" \" . \"\t0\n",
            "Теперь она талдычила , что мир полон хищных людей , справедливости нет , совести тоже нет , нет и элементарной порядочности , а также ещё каких - то важных моральных категорий ? я пропустил мимо ушей , ? но деваться ей всё равно некуда , и пусть уж последнюю свою кровь она выльет на алтарь любви к золотому мальчику Степаше …\t1\n",
            "Не могу сказать , что мне нравилось быть у него на посылках , но я исходил из того , что худой мир лучше доброй ссоры , и по возможности соблюдал нейтралитет .\t5\n",
            "\" Мы наш , мы новый мир построим \" \" … ? словом , невесть что … ? она пожала плечами и вздохнула . \"\t0\n",
            "Человек жил - жил , беспокоился , радовался ? а потом случайно выяснил , что весь его мир ? на лабораторном столе и над ним ставят эксперименты …\t3\n",
            "Вещь известная , старо , как мир …\t5\n",
            "За ближними , довольно заболоченными лесочками по излучинам Чуфырки вдруг открывался пашенный , крестьянский , считай что , мир .\t5\n",
            "Да и сам мир представлялся мальчику грандиозным вечным двигателем , работающим на собственном ресурсе , заложенном в пульсирующем движении от живого к мёртвому , от мёртвого ? к живому .\t5\n",
            "Широкая спина Павла Алексеевича в ладном хирургическом халате с тесёмками на мощной шее успела к этому времени совершенно заслонить собой весь мир и погибшего Антона с прохладными глазами , жёстким ртом на худом лице , совершенно лишённом мягкого славянского мяса .\t4\n",
            "Наука , по его глубокому убеждению , была призвана спасти мир .\t5\n",
            "Илья Иосифович укорял Павла Алексеевича в приспособленчестве , тот пытался оправдываться : он спасал не мир , а несколько десятков , в лучшем случае сотен брюхатых баб и их приплод , и , по его мнению , дело того стоило .\t5\n",
            "Достопримечательности и музеи в малолюдных кукольных городках , отдых на море среди дюн и сосен , азартные водные развлечения , парусные регаты , огромные крытые аквапарки , где день пролетает словно миг , удивительный мир сказок в детских парках , отдых в лесной глуши ? на озере , реке , с сауной , рыбалкой , ухой .\t3\n",
            "в науке , литературе и в борьбе за мир .\t5\n",
            "\" Так , взгляд на мир , утверждающий принципиальную возможность \" \" прорицания \" \" , пытался в своё время сформулировать К . Юнг , введя для этого понятие \" \" синхронии \" \" . \"\t3\n",
            "Весь мир , казалось , прислушивался и чего - то ждал .\t5\n",
            "Это ? мир , в котором всё уже произошло .\t5\n",
            "Однако в то же время мир , в котором возможны явления психокинеза , то есть воздействия сознания на причинно - обновленный ход событий , должен быть устроен совершенно иначе .\t3\n",
            "Весь мир изменился , всё другое , только этот дом всё тот же .\t5\n",
            "Он , возможно , смотрит на мир ещё доверчивыми добрыми глазами .\t5\n",
            "Но страшная потеря не заслонила от них весь мир .\t4\n",
            "Брюхо моё , почечуй мой и весь мир противились , не воспринимали такой диковинной настойки .\t4\n",
            "\" Предыдущую тетрадь см . \" \" Новый мир \" \" , 1999 , № 8 . \"\t6\n",
            "Ему удалось убедить мир в том , что конфликт на Ближнем Востоке ? это не конфликт Израиля и всех арабов , а конфликт Израиля и палестинцев .\t5\n",
            "Работа непыльная , на свежем воздухе , да и мир посмотрел .\t5\n",
            "В мир иной этот человек уйдёт многобожником ( мушриком ) , явно заслуживающим вечного пребывания в Аду .\t2\n",
            "Мусульмане веруют во всех пророков Всевышнего , начиная от Адама и завершая Моисеем , Иисусом и Мухаммадом ( мир им ) , в те Писания , которые были ниспосланы Богом человечеству через пророков , а также в существование ангелов .\t1\n",
            "Выполнение человеком своего религиозного долга , в частности , соблюдение поста , помогает ему задуматься над смыслом его бытия , воспринять окружающий мир как милость Всевышнего Творца .\t3\n",
            "\" Мусульманин , свято уверовавший в Единого Бога и живущий праведно и благочестиво , это тот , кто , говоря словами из псалмов Давида ( мир ему ) \" \" ходит непорочно и делает правду , и говорит истину в сердце своём ; кто не клевещет языком своим , не делает искреннему своему зла и не принимает поношения на ближнего своего ; тот , в глазах которого презрен отверженный , но который боящихся Господа славит ; кто клянётся , хотя \"\t1\n",
            "\" Эти коранические аяты подтверждают первую заповедь о Единобожии , данную Богом Моисею ( мир ему ) : \" \" Я Господь , Бог твой , Который вывел тебя из земли Египетской , из дома рабства . \"\t1\n",
            "Не надеялся бы в своём возрасте ? при том , что в цирке с детства , ? ещё удивить мир , представ перед всеми в новом качестве …\t0\n",
            "Михаил Николаевич был человеком , погружённым в свой закрытый посторонним мир , неохотно идущим на контакты , трудно понимаемым партнёрами , коллегами .\t3\n",
            "Зато вместе с Поповым они объездили весь мир .\t4\n",
            "Голубыми пронзительными глазами смотрели обновленцы на стены квартиры , на бараки под окном , на расстилавшуюся столицу , на мир , который будет покорён , несмотря на допущенную ими преступную халатность .\t5\n",
            "Отдельное жильё , отдельный мир , галактика , тебе принадлежащая .\t5\n",
            "Всё будет рассказано на суде , вся страна , весь мир будут оповещены о творимом злодействе !\t4\n",
            "Время от времени появлялись желавшие видеть его люди в белых халатах , которые наконец признали , что больной инженер ? выздоровел , что его можно теперь выпускать в мир нормальных людей .\t2\n",
            "Андрей Николаевич избавился вдруг от ужаса смерти , который разлит в самом воздухе кладбища , и ясно представил себе , что когда - нибудь ляжет рядом с Алею , и не важно уже , есть или нет мир иной , лежать всё равно будут вместе .\t5\n",
            "Что получит Россия , заключив мир на японских условиях ?\t1\n",
            "Что получит Россия , заключив мир на японских условиях ?\t1\n",
            "Только любовь спасёт мир !\t0\n",
            "Ликуя , кувыркаясь , подныривая верхним под нижнее , играл перед ним мир , ликованием своим обжигал Алёшу ? и так хорошо было , точно свечке под огнём , истаивать под этим всеобъемлющим праздничным сиянием , так хорошо было чувствовать свою неотрывность , вместе с камнями и водой , от всего , от всего , что окружало его и было звано на это великолепное зрелище !\t3\n",
            "\" И хорошо было думать , что , чем бы ни стал он после жизни мирской , во что бы ни превратился , он не потеряет счастья в том же товариществе видеть всё это снова ; и хорошо было додумываться даже до такого внушения , что потом - то он и станет значить в этом мире неизмеримо больше , что если теперь самой крохотной песчинкой он входит в мир среди мириад подобных \"\t2\n",
            "же песчинок , то потом , после этой жизни , в жизни другой , весь огромный мир легко сможет поместиться в нём одном , ибо тогда - то он и станет миром больше видимого мира .\t3\n",
            "\" И хорошо было думать , что , чем бы ни стал он после жизни мирской , во что бы ни превратился , он не потеряет счастья в том же товариществе видеть всё это снова ; и хорошо было додумываться даже до такого внушения , что потом - то он и станет значить в этом мире неизмеримо больше , что если теперь самой крохотной песчинкой он входит в мир среди мириад подобных \"\t2\n",
            "же песчинок , то потом , после этой жизни , в жизни другой , весь огромный мир легко сможет поместиться в нём одном , ибо тогда - то он и станет миром больше видимого мира .\t3\n",
            "Мужу изменяла и на весь мир бахвалилась .\t4\n",
            "А со времён Маркса мир ? плохо ли это , хорошо ли ? изменился .\t5\n",
            "Ушёл в прошлое мир , для которого марксизм был адекватен .\t5\n",
            "\" Пумпянский даёт почти поэтическую характеристику присутствия пушкинской мысли в пушкинском языке ? \" \" языке , как особом мире ( параллельном миру идей ) \" \" : \" \" Мы входим в мир чисто языковой , и это есть главное дело Пушкина \"\t2\n",
            "\" Он не только сказал \" \" Смирись , гордый человек … \" \" , но и разделил мир Пушкина на положительных и отрицательных героев и прямо этими грубыми терминами назвал Татьяну и Онегина . \"\t3\n",
            "Главное , что отличает , ? драматизация внутренних отношений творчества Пушкина , мир которого предстаёт как поле борьбы активного творческого начала с активными также , до агрессивности , жизненными стихиями ( в гоголевской картине обе стороны взаимодействия покойно - пассивны ) .\t3\n",
            "\" Но имя Орфея перерастает и эти пределы : \" \" Орфей ? движущее мир , творческое Слово ; и Бога - Слово знаменует он в христианской символике первых веков \" \" 67 . \"\t0\n",
            "\" Или их оценить как \" \" лишь необходимое сырьё для творчества \" \" 70 ? тогда , собственно , нет той борьбы , какую описывал Аполлон Григорьев , а на месте её что - то вроде духовного производства , перерабатывающего мир как сырьё . \"\t1\n",
            "Может , сплетёт какие - нибудь особые лапти , может , сочинит разноцветные портянки , может , повесит кольцо в нос и ? пожалуйста : русская мода вновь покорит мир .\t5\n",
            "Очевидно , американцы уверены , что у агентов ? исключительно прямой и ясный взгляд на мир .\t5\n",
            "И Родина ? огромная : весь мир , где понимают по - русски …\t4\n",
            "Сразу рушатся все вычитанные теории о происхождении жизни на планете : не бог , не эволюция образовали реки и холмы , леса и зверей в них , не они создали растительный и животный мир , а космос ради каких - то целей прильнул к планете плодокормящей грудью вселенской богини .\t3\n",
            "Дверь впустила хозяина квартиры в обихоженный им мир , в уют , сотворённый стараниями матери и прилежанием самого Гастева .\t3\n",
            "\" препирательствам молодоженов Ворониных , а Марк читал за чаем \" \" Войну и мир \" \" ; он читал , читал , а затем : \"\t6\n",
            "Богат и разнообразен этот подводный мир .\t5\n",
            "Мы , как учили предки , всунули в мир традиционную отмычку ? це два аш пять о аш .\t0\n",
            "Мы , как учили предки , всунули в мир традиционную отмычку ? це два аш пять о аш .\t0\n",
            "И мир послушно открылся .\t5\n",
            "Растительный мир района Сочи разнообразен и необычайно богат ? здесь в естественных условиях произрастают около трех тысяч видов , разновидностей и форм сосудистых растений : хвощи , папоротники , голосемянные и покрытосемянные растения .\t3\n",
            "\" Ишваракришна , Гаудапада , Вачасгштимишра \" \" перевод с санскрита и введение В . К . Шохина ( Серия EX ORIENTE LUX . Москва : Научно - издат . центр \" \" Ладомир \" \" , 1995 ) и содержащей переводы с санскрита монографии Н . В . Исаевой \" \" Слово , творящее мир . \"\t1\n",
            "\" Слово , творящее мир \" \" ? вторая монография на русском языке Н . В . Исаевой , специалистки по Шанкаре и адвайта - веданте ( \" \" недвойственности \" \" \" \" монизма \" \" \" \" абсолютизма \" \" ) \"\t2\n",
            "\" Именно этот \" \" динамизм \" \" или активная , деятельная природа высшей реальности отличает , по её мнению , учения Гаудапады и Бхартрихари от абсолютного монизма Шанкары и сближает их кашмирский шиваизм с его \" \" концепцией динамичного , активного и всемогущего Бога ? Бога , создающего этот мир в свободном творческом порыве , через спонтанный выброс энергии , через собственное творческое и поэтическое усилие \" \" ( там же , с . 11 ) . \"\t3\n",
            "\" Слово , творящее мир ; грамматическая онтология Бхартрихари / / Эстетика бытия и эстетика текста в культурах средневекового Востока . \"\t0\n",
            "Влюблённым весь мир кажется прекрасным …\t0\n",
            "В этих поездках для нас была и романтика путешествий , и возможность увидеть большой мир .\t3\n",
            "Я воображала себе , как там , глубоко под землёй , они уходят куда - то далеко - далеко , в какой - то таинственный подземный мир .\t3\n",
            "Теперь , по прошествии многих лет , я понимаю , что это было счастье ? тот мир нормального детства , который нам дарили родители .\t3\n",
            "Это был мир добрых крестьянских семей , трудолюбивых , честных людей .\t0\n",
            "\" От него уходили в мир добрые плюшевые медведи ? подушечные утешители , навевающие сон ; заводные танки ? защитники котят ; телефоны , мгновенно соединяющие с кем захочется , если ты сидишь один и все ушли ; скакалки , с которыми бедные неходячие дети когда - нибудь научатся прыгать ; вертолёты и парашюты , на которых можно спастись от пожара , вылетев из окна , ? и так далее . \"\t2\n",
            "Священное Писание нам говорит , что так возлюбил Бог мир , что Своего Единородного Сына отдал для того , чтобы мир был спасён .\t1\n",
            "Священное Писание нам говорит , что так возлюбил Бог мир , что Своего Единородного Сына отдал для того , чтобы мир был спасён .\t1\n",
            "Тихим сном и белым снегом бредил Божий мир .\t3\n",
            "Солдаты , скорее всего , не знали про то , что красота спасёт мир , но что такое красота , оба они , в общем , знали .\t5\n",
            "Возможно , в этом смысле красота и спасает мир .\t5\n",
            "Старики говорят , что сразу у нас мир станет .\t5\n",
            "У него были галлюцинации , его внутренний мир лишился чувства реальности .\t3\n",
            "\" Один из отцов Церкви уже в древности сказал , что мир не мог бы стоять без таинств , то есть без непосредственного воздействия Божия и без преображения , которое это воздействие совершает над людьми ; и что единственное таинство , которое сохранилось после отпадения человека от Бога и потери рая , это таинство брака . \"\t1\n",
            "\" Когда мы самым зачаточным образом видим в себе что - либо недостойное ни нас самих , ни той любви и уважения , которыми мы окружены , ни той любви , которую Бог нам проявляет , это уже начало нашего прозрения , и мы можем пойти на исповедь и сказать : \" \" Я знаю теперь , что под почвой , может быть , очень глубоко , лежит мир греха , но кое - что я о нём узнал уже на поверхности \"\t2\n",
            "Грех появился в момент , когда человек отвернулся от Бога ради того , чтобы познать себя и мир собственными , тварными силами .\t3\n",
            "Раньше Дима смотрел бы на этого человека остро и осмысленно : идёт один из нас , но особенный , несёт свой мир в себе , идёт , переставляя Божий дар ? ноги , не чувствуя , бедный , радости от одного хотя бы этого , идёт по делам , которые ему кажутся обыденными и мелкими , для Димы же они значительны и таинственны уже в силу того , что он ничего о них не знает и\t3\n",
            "\" И вот этому ребёнку исполнилось семь лет , мать и отец повели его в магазин \" \" Детский мир \" \" , чтобы он выбрал себе подарок . \"\t6\n",
            "Рухнул мир Клекотова ? и никак он его не соберёт .\t5\n",
            "Представив всё это , может быть , вам и удастся понять , почему под полуторакилометровой толщей земли уже после недели пребывания здесь мир наверху кажется чем - то очень далёким , почти нереальным , дающим о себе знать лишь воспоминаниями да редкими , едва слышными телефонными переговорами .\t5\n",
            "Медленно , то цепляясь , то отталкиваясь от торчащих коричневых перьев слоистой породы , с удивлением вглядываемся в необычный безмолвный мир .\t3\n",
            "Быть может , с такой же смесью удивления , восторга и страха космонавты или глубоководные исследователи смотрят сквозь толстые стёкла своих иллюминаторов на изучаемый ими чужой мир .\t3\n",
            "И вы буквально пьёте этот мир , и наслаждение ваше не знает меры , а восторг ? предела !\t0\n",
            "Иерархия демиургов , несовершенный уродливый мир и так далее , если вас интересует историческая параллель .\t3\n",
            "То , в чём гниют кости , и мир , в котором мы , так сказать , живём , называются одним и тем же словом .\t3\n",
            "Не замечали ли вы , дорогой читатель , что когда долго глядишь на мир и забываешь о себе , остаётся только то , что видишь : невысокий склон в густых зарослях конопли ( которую , стоит поезду замедлить ход , рвут специальными палками из соседних окон ) , оплетённая лианами цепь пальм , отделяющая железную дорогу от остального мира , изредка река или мост в колониальном стиле или защищённая стальной рукой шлагбаума пустая дорога .\t5\n",
            "Выкинуть какие - нибудь треснувшие очки означает признать , что целый мир , увиденный сквозь них , навсегда остался за спиной , или , наоборот и то же самое , оказался впереди , в царстве надвигающегося небытия …\t3\n",
            "И вдруг я заметил , что меня по - настоящему интересует её мир .\t5\n",
            "Я постоянно принимаю самого себя за себя самого , думая , что имею дело с чем - то внешним , а мир вокруг ? всего лишь система зеркал разной кривизны .\t3\n",
            "\" И для меня весь \" \" русский мир \" \" в целом представлялся лишь чем - то несбыточным , относящимся только к прошлому и какому - то эсхатологическому будущему . \"\t3\n",
            "После этого был водворён мир между Москвой и Литвой .\t1\n",
            "И был этот громадный эллинистический мир , где доминировала философия платонизма .\t3\n",
            "Обе эти тенденции друг другу могут вполне не противоречить : можно думать и о спасении России , и о помощи Русской Православной Церкви , но при этом помнить , что Православное христианство по существу есть вера , спасающая весь мир , а не только один какой - нибудь народ или одну какую - нибудь категорию людей .\t4\n",
            "Главный вопрос ? в самой истине , и этим вопросом болеем не только мы , но и весь мир , включая секулярное общество , формально не имеющее отношения к Церкви : заключает ли в себе христианство , Новый Завет учение о том , что есть такой один человек , в котором сосредотачивается весь церковный авторитет и от которого зависит истина и её исповедание ?\t4\n",
            "Но весь католический мир в такой степени определялся папской доктриной , что когда авторитет папства начали понемногу снижать и стали говорить о том , что в Церкви некоторые вещи меняются , и то , что было некогда так , может стать иначе , то в Католичестве начался большой кризис .\t5\n",
            "Вопрос , который сейчас волнует и разделяет католический мир , является вопросом экклезиологии и учения о Церкви .\t4\n",
            "Конечно , надо иметь в виду , что сегодня Западный мир есть мир секулярный .\t3\n",
            "Конечно , надо иметь в виду , что сегодня Западный мир есть мир секулярный .\t3\n",
            "Во втором ? содержание иррационально мерцает сквозь выражение и играет роль как бы моста из рационального мира в мир мистический .\t2\n",
            "\" В планах \" \" поэмы \" \" Достоевского \" \" Император \" \" ( замысле романа об Иоанне Антоновиче ) есть записи о том , как Мирович уговаривает выросшего в полной изоляции и не знающего никаких соблазнов жизни Ивана Антоновича согласиться на заговор : \" \" Показывает ему мир , с чердака ( Нева и проч . ) . \"\t1\n",
            "\" В планах \" \" поэмы \" \" Достоевского \" \" Император \" \" ( замысле романа об Иоанне Антоновиче ) есть записи о том , как Мирович уговаривает выросшего в полной изоляции и не знающего никаких соблазнов жизни Ивана Антоновича согласиться на заговор : \" \" Показывает ему мир , с чердака ( Нева и проч . ) . \"\t1\n",
            "Показывает божий мир .\t5\n",
            "Вопрос не в том , чтобы научиться выживать , а в том , чтобы научиться строить новый мир , а этот новый мир с точки зрения христианина ( и даже не христианина , а просто человека , верующего в жизнь ) должен быть больше , чем материальный мир .\t3\n",
            "Вопрос не в том , чтобы научиться выживать , а в том , чтобы научиться строить новый мир , а этот новый мир с точки зрения христианина ( и даже не христианина , а просто человека , верующего в жизнь ) должен быть больше , чем материальный мир .\t3\n",
            "Вопрос не в том , чтобы научиться выживать , а в том , чтобы научиться строить новый мир , а этот новый мир с точки зрения христианина ( и даже не христианина , а просто человека , верующего в жизнь ) должен быть больше , чем материальный мир .\t3\n",
            "Потому что легко тосковать о правде , легко голодать ? но надо научиться голод этот удовлетворять тем , чем он может быть удовлетворён , то есть любовью , отдачей себя для других , самозабвением , потому что , только когда мы можем о себе забыть , мы можем вдруг увидеть , как мир глубок , как мир осмыслен .\t1\n",
            "Потому что легко тосковать о правде , легко голодать ? но надо научиться голод этот удовлетворять тем , чем он может быть удовлетворён , то есть любовью , отдачей себя для других , самозабвением , потому что , только когда мы можем о себе забыть , мы можем вдруг увидеть , как мир глубок , как мир осмыслен .\t1\n",
            "\" Книг у прабабушки было много : старинные церковные , с металлическими застёжками , в переплётах из тиснёной свиной кожи , подшивка журнала \" \" Крокодил \" \" за 1938 год , \" \" Не мир , но меч \" \" писателя Мережковского и целая вязанка русских классиков . \"\t5\n",
            "Советская переводческая школа гремит на весь мир .\t4\n",
            "Или всё - таки существуют абсолютно неделимые частицы ( хотя бы те же кварки ! ) из которых , как дом из кирпичиков , построен весь многообразный мир .\t3\n",
            "А вообще мир просто кишит тайнами .\t5\n",
            "Но главное ? практичный Эдисон стал выпускать свои лампочки на заводе , то есть открыл им дорогу в мир .\t5\n",
            "\" В 1876 году \" \" свеча Яблочкова \" \" покоряет весь мир ? от Америки до Камбоджи . \"\t4\n",
            "Световоды были известны ещё век назад , но только сейчас начали завоёвывать мир .\t5\n",
            "Это была стройная , очаровательная девушка , и весь радостный облик её струил ласку на окружающий мир .\t3\n",
            "Кто знал его здесь в мирное время , в дни переворота , в недели , потрясшие мир ?\t0\n",
            "По мнению Милия Алексеевича , это было справедливо , как и латинское : да свершится правосудие , хотя бы погиб мир .\t1\n",
            "Конечно , Бенкендорф мог бы отметить , что денежки честные , не от феклисовых , пришлось залезть в долги , но уже на следующий год честно расплатился ? вдовствующая императрица , отходя в мир иной , оставила сыну подруги своей юности семьдесят пять тысяч рублей .\t2\n",
            "А если смотреть на то , на что был похож мир в течение последнего года или прошедших двух тысячелетий , то как больно делается !\t0\n",
            "Для того ли нас посылал Господь в мир ?\t5\n",
            "Миновали эпохи , весь мир изменился , а Зубр оставался для неё прежним , всё таким же старшим , хотя они были одногодки .\t4\n",
            "Что это за мир , где прыгунов и генералов знают лучше , чем гениев , разгадывающих шифры Природы !\t0\n",
            "Все они воспринимали мир чуть сдвинуто , иначе , чем обычные люди .\t5\n",
            "Они должны были изменить мир к лучшему …\t0\n",
            "Нападение Гитлера на Россию взорвало мир Зубра , заставило его подняться на поверхность .\t5\n",
            "За Максимову , за весь мир , за себя .\t5\n",
            "Любила весь мир и себя тоже ( себя - то за что обижать ? )\t0\n",
            "Но как назвать то состояние , когда человек счастлив , любит весь мир , других людей ? и себя в том числе ?\t0\n",
            "Готовили к переходу в иной мир .\t5\n",
            "Чуть припогасло сияние трав , цветов , бабочек , мир замкнулся , но всё ещё светится .\t3\n",
            "Накануне поступления в школу родители перевезли меня в город , где тёмная ленинградская коммуналка поначалу развернулась , как огромный , разные разности и радости сулящий мир ? по сравнению с застойным и угрюмым мирком Дома .\t3\n",
            "\" При этом я каждый раз искренне верила , что известия ? \" \" последние \" \" в самом отрадном для меня смысле , то есть более не будут передаваться вообще никогда и мне не придётся слушать одни и те же фамилии да скучные цифры , а сразу возникнет волшебный голос Литвинова либо мелодичные переливы \" \" Музыкальной шкатулки \" \" , но лучше всего такая сказка , когда в ящик помещается другой маленький настоящий мир ? инсценировка . \"\t3\n",
            "Было очевидно , что мать зашла в этот мир ? так , на минутку , и стоит ли располагаться поудобней .\t3\n",
            "\" Уходящий в иной мир со словами , что он прожил \" \" не свою жизнь \" \" , преподаёт нам жесточайший урок , и мы яростно начинаем поиски самоосуществления . \"\t3\n",
            "Без разговоров , ? сказал он , ? ком цу мир …\t0\n",
            "Весь мир уже был , а его ещё не было .\t5\n",
            "Желал выйти в негостеприимный мир .\t5\n",
            "Если бы мужчины его народа не собрали всё имеющееся у них мужество , вышел бы он в мир рабства .\t2\n",
            "Если бы мужчины его народа не собрали всё имеющееся у них мужество , вышел бы он в мир рабства .\t2\n",
            "\" Гордая собой , европейская \" \" христианская \" \" цивилизация дымила в мир развалинами . \"\t0\n",
            "Весь этот мир куда - то пропал .\t5\n",
            "Черкасова знала вся страна как артиста , депутата и борца за мир .\t5\n",
            "И в это мгновение , поскольку вера одного человека распахнула дверь , и для всякого , кто выполнит , что ему сказано , Царство Божие водворяется , в мир вступает новое измерение вечности и бездонной глубины , и то , что было иначе невозможно , становится реальностью .\t3\n",
            "Теперь , когда весь мир ограничился для него тахтой , ночным столиком , лампой .\t5\n",
            "Весь мир полнился звоном , как натянутая струна .\t4\n",
            "Несколько сияющих истин должны были изменить мир к лучшему , а что произошло в действительности ? . .\t5\n",
            "Портвейн распространялся доброй вестью , окрашивая мир тонами нежности и снисхождения .\t5\n",
            "Я шёл и думал ? мир охвачен безумием .\t5\n",
            "Вдруг я увидел мир как единое целое .\t5\n",
            "Я не буду менять линолеум , ? сказал он . ? Я передумал , ибо мир обречен .\t1\n",
            "Это не означает , что здесь царили вечный мир и благоденствие .\t1\n",
            "Это был мир уязвлённых самолюбий , растоптанных амбиций , бесконечных поношений чужой игры .\t3\n",
            "Наш мир абсурден , ? говорю я своей жене , ? и враги человека ? домашние его !\t0\n",
            "У Алексея Петровича свой мир ? в голове , настоящий .\t5\n",
            "Маленький , маленький , одинокий , заблудился на улице , по ошибке пришёл ты в этот мир !\t0\n",
            "Он всё знает , он понял мир , понял Правила , постиг тайную связь событий , постиг законы сцепления миллионов обрывков разрозненных вещей !\t3\n",
            "\" замедленный как во сне мир ; а ведь на самом деле там наверняка же склады , заборы , какая - нибудь гадкая фабричонка выплевывает перламутрово - ядовитые отходы , свалка дымится вонючим тлеющим дымом , или что - нибудь ещё , безнадёжное , окраинное , пошлое . \"\t0\n",
            "заламывала руки и склоняла маленькую гладко причёсанную головку к покатому плечику , ? тихо , так тихо светит луна , а дума тобой роковая полна , ? луна не поддавалась , мылом выскальзывала из рук , неслась сквозь рваные оккервильские тучи , ? на этом Оккервиле всегда что - то тревожное с небом , ? как беспокойно мечутся прозрачные , приручённые тени нашего воображения , когда сопение и запахи живой жизни проникают в их прохладный , туманный мир !\t3\n",
            "Вместо простого , естественного мира , где все знакомы , её окружает искусственный мир церемоний …\t0\n",
            "Удивительно , пугающе рано переселяются наши дети из мира , где все со всеми знакомы , в мир разделительных условностей .\t2\n",
            "Но водитель лишь с шумом запер перед самым носом классового врага двери в светлый мир автобуса , оставив Аркадия Лукьяновича тонуть в окне тьмы .\t3\n",
            "Прежде святые или просто безобидные слова , такие , как любовь , свобода , братство , демократия , либерализм , мир и т . д . , они травили умы , выедали сердца и души , размножались делением во всё новые , по внешнему виду здоровые и нужные , но больные изнутри слова .\t1\n",
            "Перегорев в глубинах вулканической кучи , оно извергалось и затопляло мир .\t5\n",
            "Впрочем , до третьего они ещё поговорили в своё удовольствие , и больная левая нога , как бы заключив с бывшим своим хозяином мир , дипломатично их разговору не препятствовала .\t1\n",
            "\" Но вместо этого они удовлетворяли лишь мелкие нужды государства по отысканию игольного ушка в космосе , чтоб протащить через него ядерного \" \" верблюда \" \" , напугав тем самым и себя , и весь мир . \"\t4\n",
            "\" Перед вступающим в жизнь индивидом не \" \" ничто \" \" Хейдеггера , но объективный мир , преобразованный деятельностью поколений . \"\t3\n",
            "Однако этот мир предметов , воплощающих человеческие способности , сложившиеся в процессе развития общественно - исторической практики , в этом своём качестве не дан индивиду изначально .\t3\n",
            "Индивид , ребёнок не просто брошен в человеческий мир , а вводится в этот мир окружающими людьми , и они руководят им в этом мире .\t3\n",
            "Индивид , ребёнок не просто брошен в человеческий мир , а вводится в этот мир окружающими людьми , и они руководят им в этом мире .\t3\n",
            "Мир звуков речи , как и мир музыки , это творение человечества .\t3\n",
            "Другое условие ? это окружающий человека мир предметов и явлений , созданный бесчисленными поколениями людей в их труде и борьбе .\t3\n",
            "Не его собственное существование , а весь мир , представавший перед ним , рухнул в эту пропасть .\t3\n",
            "Вот особое качество времени и темноты , которое не могу осмыслить : мир , разрубленный , как яблоко .\t3\n",
            "Как изменится мир оттого , что в нём меня ещё не было ?\t5\n",
            "\" Для меня весь мир театр \" \" \" \" . \"\t0\n",
            "Нет , даже не мир , а целая галактика .\t5\n",
            "Нет , даже не мир , а целая галактика .\t5\n",
            "Но в тот мир , где играли лунные джазы , парили крылатые красавицы и расхаживали бравые кавалеры Мот , он не допускал никого !\t3\n",
            "Всё это разнородное , разномастное ? небесное и земное , тот мир и этот ? было сведено в простую и ясную композицию .\t3\n",
            "Быть может , на ней горел отражённый свет Лины , может , весь мир сделался для него в эти минуты прекрасным , но Клара сейчас показалась ему очень красивой .\t3\n",
            "Они шли с Буддо по взморью весёлые , беззаботные , готовые обнять весь мир , смеялись и болтали .\t4\n",
            "Весь мир теперь смотрит на наш Колонный зал ? поэтому и факты должны быть убедительные , яркие , простые .\t4\n",
            "Зато яснее , чем все эти поэты , философы , ораторы и государственные умы , он понимал одно ? мир смертельно устал и изверился .\t0\n",
            "\" А ну - ка , ну - ка ! ? Суровцев взял рукопись и стал читать . ? Как сказано ! ? воскликнул он вдруг . ? \" \" Когда судья выносит несправедливый приговор , Бог отворачивает от него своё лицо , но если он справедлив хотя на час , то и весь мир становится от этого крепче \" \" . \"\t4\n",
            "Что они принесли в мир , зло или добро ?\t5\n",
            "Не пытают ли они мир добром и жалостью ?\t0\n",
            "Вот это приобщение , эту вхожесть в высший мир зам . нач . по оперчасти ценил больше всего .\t3\n",
            "\" Вот посажен начальник тюрьмы , на столе у Вождя лежит проект нового Уголовного кодекса ? расстрела нет , самый большой срок пять лет ; на приёме какой - то делегации иностранных рабочих Вождь сказал : « Мы можем дать такую амнистию , которую ещё мир не видал » ; на Колыме второй уж месяц работает правительственная комиссия по пересмотру . \"\t1\n",
            "У его предшественника в спальне над кроватью висел даже ящик с африканскими бабочками , а в столовой на особом столике блистала в переливалась голубым и розовым перламутром горка колибри ( мир праху вашего хозяина , птички ! ) .\t0\n",
            "А вот встретился с ней , и всё прояснилось : и мир стал хорош , и люди хороши , да и сам я ничего .\t1\n",
            "Я ему и говорю под конец : беда в том , дорогой имярек , что наш спор нескончаем , это старый , как мир , вопрос ? что есть истина ?\t5\n",
            "В семинарии он так сжился с ней , так сумел её приручить , что вскоре создал свой особый , принадлежащий только ему мир .\t3\n",
            "А он ответит мне : « Ты читал мой труд « Майн кампф » ? Это же я обещал народу , когда ещё не фюрером был , а узником , и с этим я и пришёл в мир » .\t5\n",
            "Только одно : « До чего же ты , фюрер , последователен ! » « Да , ? скажет он , ? и потому я фюрер , а ты шайзе , говнюк , и иди от меня , говнюк , вон , не мешай мне переделывать мир по - моему » .\t5\n",
            "До чего же тих и спокоен мир !\t0\n",
            "Отец завершил среднее образование , и решили , видимо , что неплохо ему перед университетом посмотреть на мир .\t5\n",
            "Я вам отвечу : Рахиль и Якоб любили друг друга , а любовь покоряет мир .\t1\n",
            "И все люди с характерами , часто неотёсанными , это , знаете ли , не благопристойный немецкий докторский дом , это дом сапожника в маленьком городке на Украине , и этот дом был целый мир , и приспособиться к этому миру отцу было нелегко .\t3\n",
            "Он был человек труда и трудового долга , а на таких людях держится мир .\t1\n",
            "Сын сапожника Рахленко из маленького города на Черниговщине ? и вот , пожалуйста , такой герой , не какой - нибудь унтер - офицер , вроде Хаима Ягудина , а , можно сказать , красный генерал , в доме полно оружия , в конюшне стоят кони , каких не видел мир , и наш сосед , шорник Сташенок , готовит для них особенную сбрую .\t1\n",
            "Мы ходили в стаде туристов по ярусам знаменитого на весь мир древнегреческого театра , удивляясь , как хорошо сохранился его полуциркульный амфитеатр , вырубленный из одного гигантского каменного монолита .\t4\n",
            "Мы все были некогда пешеходами и основательно , по слишком торопясь , вглядывались в окружающий нас мир Города во всех его подробностях .\t3\n",
            "Выпала добрая половина перекрёстка , к которому издавна тяготел тот особый старомосковский мир поэтов и художников , куда меня случайно занесло в первый же день пребывания в Москве и долго потом держало в плену .\t3\n",
            "\" Он был в своей легендарной заграничной поездке вместе с прославленной на весь мир американской балериной - босоножкой , которая была в восхищении от русской революции и выбегала на сцену московского Большого театра в красной тунике , с развёрнутым красным знаменем , исполняя под звуки оркестра свой знаменитый танец \" \" Интернационал \" \" . \"\t4\n",
            "Верхний ад это земной мир , полный мучений , волнений , холода , голода , жажды , разнообразнейших телесных и душевных страданий .\t3\n",
            "\" Нас больше занимает идейная общность \" \" Элуцидария \" \" и произведений мастеров XII ? XIII столетий , обусловленная , как можно предполагать , прежде всего тем , что и \" \" Библия в камне \" \" , и катехизис , и описания странствий в загробный мир были адресованы одной и той же массовой аудитории , которая именно при их посредстве усваивала истины христианства . \"\t3\n",
            "Христос пришёл в мир не для того , чтобы спасти всех .\t5\n",
            "\" Вместе с крошкой на Уилшире Мы увидели мир шире В замечательной квартире . \"\t0\n",
            "Что стоит наше воображение без существ и предметов , населяющих мир реальности ?\t0\n",
            "Жест за жестом : удар копьём , пуск стрелы ? всё является в мир .\t5\n",
            "Катаев прав ? ведь пустоты не существует , ведь мир же материален .\t5\n",
            "\" Вы помните , он приводит надпись на памятнике Канту , появившуюся сразу после взятия Кенигсберга : \" \" Теперь ты видишь , Кант , что мир материален \" \" . \"\t1\n",
            "Вот как тесен мир !\t5\n",
            "Какой нелепый , неосмысленный мир !\t0\n",
            "Кто объяснит ? ? Он стискивал мою руку цепкой клешнёй . ? И как не хочется этот мир покидать …\t0\n",
            "\" В Антарктиде , всего в 400 километрах от Южного полюса обнаружили своеобразного ледового паучка - вегетарианца , а советская экспедиция \" \" Северный полюс - 22 \" \" встретила в ледовых разводьях на 84 - й северной параллели нерп , полярную треску - сайку и богатый мир морских ракообразных . \"\t3\n",
            "Заканчивалось превращение окружающего в мир без улыбок .\t5\n",
            "Девяносто девять овец он не забывает , но он знает , что они уже в верном месте , а ту овцу , которая отбилась , ? надо найти , надо найти спешно , надо её и утешить , что она не потерялась , надо согреть её , потому что мир вокруг неё был холоден и жесток , надо привести её в то место , где и она найдёт радость , любовь , ласку .\t3\n",
            "\" Он пришёл , может быть , первый раз в жизни , в поисках Бога , а вместо Бога он находит фарисейское общество людей , которые \" \" знают \" \" всё обо всем , только одного не знают ? любви , только одно забыли ? сострадание , одного только не помнят : что Христос пришёл в мир грешных спасти , а не праведных , что Он пришёл и Его ещё при жизни упрекали в том , что Он ест с мытарями \"\t2\n",
            "Научный мир привык к Железке , привык прислушиваться к её львиному рыку , принюхиваться к её флюидам , вчитываться в её труды и вместе с ней играть в тяжёлую игру , доступную лишь титанам , передвигавшим горы в пустыне в давние земные времена .\t5\n",
            "И такой это был чистый белый мир на чёрной ещё земле , такое свечение ! . .\t3\n",
            "Подводный мир заворожил клеста .\t5\n"
          ],
          "name": "stdout"
        }
      ]
    }
  ]
}