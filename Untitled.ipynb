{
 "cells": [
  {
   "cell_type": "code",
   "execution_count": 3,
   "metadata": {},
   "outputs": [
    {
     "name": "stdout",
     "output_type": "stream",
     "text": [
      "Collecting bert_embedding\n",
      "  Using cached bert_embedding-1.0.1-py3-none-any.whl (13 kB)\n",
      "Collecting numpy==1.14.6\n",
      "  Using cached numpy-1.14.6-cp37-none-win32.whl (9.9 MB)\n",
      "Collecting gluonnlp==0.6.0\n",
      "  Using cached gluonnlp-0.6.0.tar.gz (209 kB)\n"
     ]
    },
    {
     "name": "stderr",
     "output_type": "stream",
     "text": [
      "ERROR: Could not find a version that satisfies the requirement mxnet==1.4.0 (from bert_embedding) (from versions: 0.12.0, 0.12.1, 1.0.0, 1.0.0.post1, 1.0.0.post3, 1.0.0.post4, 1.1.0.post0, 1.2.0, 1.6.0)\n",
      "ERROR: No matching distribution found for mxnet==1.4.0 (from bert_embedding)\n"
     ]
    }
   ],
   "source": [
    "!pip install bert_embedding\n"
   ]
  },
  {
   "cell_type": "code",
   "execution_count": 1,
   "metadata": {},
   "outputs": [
    {
     "ename": "ModuleNotFoundError",
     "evalue": "No module named 'bert_embedding'",
     "output_type": "error",
     "traceback": [
      "\u001b[1;31m---------------------------------------------------------------------------\u001b[0m",
      "\u001b[1;31mModuleNotFoundError\u001b[0m                       Traceback (most recent call last)",
      "\u001b[1;32m<ipython-input-1-47a13b74c1b8>\u001b[0m in \u001b[0;36m<module>\u001b[1;34m()\u001b[0m\n\u001b[1;32m----> 1\u001b[1;33m \u001b[1;32mfrom\u001b[0m \u001b[0mbert_embedding\u001b[0m \u001b[1;32mimport\u001b[0m \u001b[0mBertEmbedding\u001b[0m\u001b[1;33m\u001b[0m\u001b[0m\n\u001b[0m\u001b[0;32m      2\u001b[0m \u001b[1;33m\u001b[0m\u001b[0m\n\u001b[0;32m      3\u001b[0m bert_abstract = \"\"\"We introduce a new language representation model called BERT, which stands for Bidirectional Encoder Representations from Transformers.\n\u001b[0;32m      4\u001b[0m  \u001b[0mUnlike\u001b[0m \u001b[0mrecent\u001b[0m \u001b[0mlanguage\u001b[0m \u001b[0mrepresentation\u001b[0m \u001b[0mmodels\u001b[0m\u001b[1;33m,\u001b[0m \u001b[0mBERT\u001b[0m \u001b[1;32mis\u001b[0m \u001b[0mdesigned\u001b[0m \u001b[0mto\u001b[0m \u001b[0mpre\u001b[0m\u001b[1;33m-\u001b[0m\u001b[0mtrain\u001b[0m \u001b[0mdeep\u001b[0m \u001b[0mbidirectional\u001b[0m \u001b[0mrepresentations\u001b[0m \u001b[0mby\u001b[0m \u001b[0mjointly\u001b[0m \u001b[0mconditioning\u001b[0m \u001b[0mon\u001b[0m \u001b[0mboth\u001b[0m \u001b[0mleft\u001b[0m \u001b[1;32mand\u001b[0m \u001b[0mright\u001b[0m \u001b[0mcontext\u001b[0m \u001b[1;32min\u001b[0m \u001b[0mall\u001b[0m \u001b[0mlayers\u001b[0m\u001b[1;33m.\u001b[0m\u001b[1;33m\u001b[0m\u001b[0m\n\u001b[0;32m      5\u001b[0m  \u001b[0mAs\u001b[0m \u001b[0ma\u001b[0m \u001b[0mresult\u001b[0m\u001b[1;33m,\u001b[0m \u001b[0mthe\u001b[0m \u001b[0mpre\u001b[0m\u001b[1;33m-\u001b[0m\u001b[0mtrained\u001b[0m \u001b[0mBERT\u001b[0m \u001b[0mrepresentations\u001b[0m \u001b[0mcan\u001b[0m \u001b[0mbe\u001b[0m \u001b[0mfine\u001b[0m\u001b[1;33m-\u001b[0m\u001b[0mtuned\u001b[0m \u001b[1;32mwith\u001b[0m \u001b[0mjust\u001b[0m \u001b[0mone\u001b[0m \u001b[0madditional\u001b[0m \u001b[0moutput\u001b[0m \u001b[0mlayer\u001b[0m \u001b[0mto\u001b[0m \u001b[0mcreate\u001b[0m \u001b[0mstate\u001b[0m\u001b[1;33m-\u001b[0m\u001b[0mof\u001b[0m\u001b[1;33m-\u001b[0m\u001b[0mthe\u001b[0m\u001b[1;33m-\u001b[0m\u001b[0mart\u001b[0m \u001b[0mmodels\u001b[0m \u001b[1;32mfor\u001b[0m \u001b[0ma\u001b[0m \u001b[0mwide\u001b[0m \u001b[0mrange\u001b[0m \u001b[0mof\u001b[0m \u001b[0mtasks\u001b[0m\u001b[1;33m,\u001b[0m \u001b[0msuch\u001b[0m \u001b[1;32mas\u001b[0m \u001b[0mquestion\u001b[0m \u001b[0manswering\u001b[0m \u001b[1;32mand\u001b[0m \u001b[0mlanguage\u001b[0m \u001b[0minference\u001b[0m\u001b[1;33m,\u001b[0m \u001b[0mwithout\u001b[0m \u001b[0msubstantial\u001b[0m \u001b[0mtask\u001b[0m\u001b[1;33m-\u001b[0m\u001b[0mspecific\u001b[0m \u001b[0marchitecture\u001b[0m \u001b[0mmodifications\u001b[0m\u001b[1;33m.\u001b[0m\u001b[1;33m\u001b[0m\u001b[0m\n",
      "\u001b[1;31mModuleNotFoundError\u001b[0m: No module named 'bert_embedding'"
     ]
    }
   ],
   "source": [
    "from bert_embedding import BertEmbedding\n",
    "\n",
    "bert_abstract = \"\"\"We introduce a new language representation model called BERT, which stands for Bidirectional Encoder Representations from Transformers.\n",
    " Unlike recent language representation models, BERT is designed to pre-train deep bidirectional representations by jointly conditioning on both left and right context in all layers.\n",
    " As a result, the pre-trained BERT representations can be fine-tuned with just one additional output layer to create state-of-the-art models for a wide range of tasks, such as question answering and language inference, without substantial task-specific architecture modifications. \n",
    "BERT is conceptually simple and empirically powerful. \n",
    "It obtains new state-of-the-art results on eleven natural language processing tasks, including pushing the GLUE benchmark to 80.4% (7.6% absolute improvement), MultiNLI accuracy to 86.7 (5.6% absolute improvement) and the SQuAD v1.1 question answering Test F1 to 93.2 (1.5% absolute improvement), outperforming human performance by 2.0%.\"\"\"\n",
    "sentences = bert_abstract.split('\\n')\n",
    "bert_embedding = BertEmbedding()\n",
    "result = bert_embedding(sentences)"
   ]
  },
  {
   "cell_type": "code",
   "execution_count": 4,
   "metadata": {},
   "outputs": [
    {
     "name": "stderr",
     "output_type": "stream",
     "text": [
      "ERROR: Could not find a version that satisfies the requirement mxnet-cu92 (from versions: none)\n",
      "ERROR: No matching distribution found for mxnet-cu92\n"
     ]
    }
   ],
   "source": [
    "!pip install mxnet-cu92"
   ]
  },
  {
   "cell_type": "code",
   "execution_count": null,
   "metadata": {},
   "outputs": [],
   "source": []
  }
 ],
 "metadata": {
  "kernelspec": {
   "display_name": "Python 3",
   "language": "python",
   "name": "python3"
  },
  "language_info": {
   "codemirror_mode": {
    "name": "ipython",
    "version": 3
   },
   "file_extension": ".py",
   "mimetype": "text/x-python",
   "name": "python",
   "nbconvert_exporter": "python",
   "pygments_lexer": "ipython3",
   "version": "3.7.0"
  }
 },
 "nbformat": 4,
 "nbformat_minor": 2
}
